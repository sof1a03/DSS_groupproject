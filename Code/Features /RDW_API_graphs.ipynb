{
  "nbformat": 4,
  "nbformat_minor": 0,
  "metadata": {
    "colab": {
      "provenance": [],
      "authorship_tag": "ABX9TyNii+d/Ad0gB4gP9J2I5dJu"
    },
    "kernelspec": {
      "name": "python3",
      "display_name": "Python 3"
    },
    "language_info": {
      "name": "python"
    }
  },
  "cells": [
    {
      "cell_type": "markdown",
      "source": [
        "# RDW Market Cap Explorer"
      ],
      "metadata": {
        "id": "P5Lky41nqoIn"
      }
    },
    {
      "cell_type": "markdown",
      "source": [
        "RDW_API_graphs.py re written again in a Notebook for consistency"
      ],
      "metadata": {
        "id": "bt9ZrwlHqa_h"
      }
    },
    {
      "cell_type": "code",
      "execution_count": 17,
      "metadata": {
        "id": "luB_mgb4qMWu"
      },
      "outputs": [],
      "source": [
        "import requests\n",
        "import pandas as pd\n",
        "import numpy as np\n",
        "import matplotlib.pyplot as plt\n",
        "import seaborn as sns\n",
        "from sklearn.linear_model import LinearRegression, LogisticRegression"
      ]
    },
    {
      "cell_type": "markdown",
      "source": [
        "Inputs"
      ],
      "metadata": {
        "id": "24-oRtYmrQH9"
      }
    },
    {
      "cell_type": "code",
      "source": [
        "#This is hard - coded, no input from the putside.\n",
        "# explanatory\n",
        "merk = \"BMW\"\n",
        "handelsbenaming = \"118i\"\n",
        "keys = [\"catalogusprijs\", \"datum_eerste_tenaamstelling_in_nederland\", \"datum_tenaamstelling\"]\n"
      ],
      "metadata": {
        "id": "ShpgyO9orEbR"
      },
      "execution_count": 2,
      "outputs": []
    },
    {
      "cell_type": "markdown",
      "source": [
        "API call"
      ],
      "metadata": {
        "id": "dZ5LwHoErRoJ"
      }
    },
    {
      "cell_type": "code",
      "source": [
        "url = f\"https://opendata.rdw.nl/resource/m9d7-ebf2.json?merk={merk}&handelsbenaming={handelsbenaming}\"\n",
        "response = requests.get(url)\n",
        "data = response.json()"
      ],
      "metadata": {
        "id": "dQf1DTJ1rTvd"
      },
      "execution_count": 3,
      "outputs": []
    },
    {
      "cell_type": "markdown",
      "source": [
        "Convert to DataFrame"
      ],
      "metadata": {
        "id": "lEYHZJCorVnN"
      }
    },
    {
      "cell_type": "code",
      "source": [
        "df = pd.DataFrame(data)\n",
        "\n",
        "# Fill missing keys with None\n",
        "for k in keys:\n",
        "    if k not in df.columns:\n",
        "        df[k] = None\n",
        "\n",
        "df"
      ],
      "metadata": {
        "colab": {
          "base_uri": "https://localhost:8080/",
          "height": 617
        },
        "id": "zka5w5ulrVVw",
        "outputId": "dc91c4d7-9f0e-4d24-86df-ad7455bf6a4d"
      },
      "execution_count": 4,
      "outputs": [
        {
          "output_type": "execute_result",
          "data": {
            "text/plain": [
              "    kenteken voertuigsoort merk handelsbenaming vervaldatum_apk  \\\n",
              "0     X053GK  Personenauto  BMW            118i        20270527   \n",
              "1     X148VF  Personenauto  BMW            118i        20261218   \n",
              "2     Z480NV  Personenauto  BMW            118i        20271029   \n",
              "3     HPL31S  Personenauto  BMW            118i        20251216   \n",
              "4     T643TG  Personenauto  BMW            118i        20270522   \n",
              "..       ...           ...  ...             ...             ...   \n",
              "313   T901TG  Personenauto  BMW            118i        20271115   \n",
              "314   X898HT  Personenauto  BMW            118i        20271130   \n",
              "315   R368KH  Personenauto  BMW            118i        20270428   \n",
              "316   Z362NZ  Personenauto  BMW            118i        20260529   \n",
              "317   S784BJ  Personenauto  BMW            118i        20270730   \n",
              "\n",
              "    datum_tenaamstelling bruto_bpm inrichting aantal_zitplaatsen eerste_kleur  \\\n",
              "0               20240105      2340  hatchback                  5        ZWART   \n",
              "1               20250519      1847  hatchback                  5        GRIJS   \n",
              "2               20240525      4388  hatchback                  5        ZWART   \n",
              "3               20250516      3322  hatchback                  5        GRIJS   \n",
              "4               20231031      4466  hatchback                  5        ZWART   \n",
              "..                   ...       ...        ...                ...          ...   \n",
              "313             20230928      4957  hatchback                  5        GRIJS   \n",
              "314             20241116      1787  hatchback                  5        GRIJS   \n",
              "315             20231005      2532  hatchback                  5          WIT   \n",
              "316             20240601      2218  hatchback                  5        ZWART   \n",
              "317             20230420      2474  hatchback                  5          WIT   \n",
              "\n",
              "     ... hoogte_voertuig  \\\n",
              "0    ...             143   \n",
              "1    ...             143   \n",
              "2    ...             143   \n",
              "3    ...             143   \n",
              "4    ...             143   \n",
              "..   ...             ...   \n",
              "313  ...             143   \n",
              "314  ...             143   \n",
              "315  ...             143   \n",
              "316  ...             143   \n",
              "317  ...             143   \n",
              "\n",
              "    registratie_datum_goedkeuring_afschrijvingsmoment_bpm  \\\n",
              "0                                             20231026      \n",
              "1                                             20240124      \n",
              "2                                             20240514      \n",
              "3                                             20250417      \n",
              "4                                             20230822      \n",
              "..                                                 ...      \n",
              "313                                           20230822      \n",
              "314                                           20231108      \n",
              "315                                           20220920      \n",
              "316                                           20240430      \n",
              "317                                           20221220      \n",
              "\n",
              "    registratie_datum_goedkeuring_afschrijvingsmoment_bpm_dt  \\\n",
              "0                              2023-10-26T00:00:00.000         \n",
              "1                              2024-01-24T00:00:00.000         \n",
              "2                              2024-05-14T00:00:00.000         \n",
              "3                              2025-04-17T00:00:00.000         \n",
              "4                              2023-08-22T00:00:00.000         \n",
              "..                                                 ...         \n",
              "313                            2023-08-22T00:00:00.000         \n",
              "314                            2023-11-08T00:00:00.000         \n",
              "315                            2022-09-20T00:00:00.000         \n",
              "316                            2024-04-30T00:00:00.000         \n",
              "317                            2022-12-20T00:00:00.000         \n",
              "\n",
              "                   api_gekentekende_voertuigen_assen  \\\n",
              "0    https://opendata.rdw.nl/resource/3huj-srit.json   \n",
              "1    https://opendata.rdw.nl/resource/3huj-srit.json   \n",
              "2    https://opendata.rdw.nl/resource/3huj-srit.json   \n",
              "3    https://opendata.rdw.nl/resource/3huj-srit.json   \n",
              "4    https://opendata.rdw.nl/resource/3huj-srit.json   \n",
              "..                                               ...   \n",
              "313  https://opendata.rdw.nl/resource/3huj-srit.json   \n",
              "314  https://opendata.rdw.nl/resource/3huj-srit.json   \n",
              "315  https://opendata.rdw.nl/resource/3huj-srit.json   \n",
              "316  https://opendata.rdw.nl/resource/3huj-srit.json   \n",
              "317  https://opendata.rdw.nl/resource/3huj-srit.json   \n",
              "\n",
              "               api_gekentekende_voertuigen_brandstof  \\\n",
              "0    https://opendata.rdw.nl/resource/8ys7-d773.json   \n",
              "1    https://opendata.rdw.nl/resource/8ys7-d773.json   \n",
              "2    https://opendata.rdw.nl/resource/8ys7-d773.json   \n",
              "3    https://opendata.rdw.nl/resource/8ys7-d773.json   \n",
              "4    https://opendata.rdw.nl/resource/8ys7-d773.json   \n",
              "..                                               ...   \n",
              "313  https://opendata.rdw.nl/resource/8ys7-d773.json   \n",
              "314  https://opendata.rdw.nl/resource/8ys7-d773.json   \n",
              "315  https://opendata.rdw.nl/resource/8ys7-d773.json   \n",
              "316  https://opendata.rdw.nl/resource/8ys7-d773.json   \n",
              "317  https://opendata.rdw.nl/resource/8ys7-d773.json   \n",
              "\n",
              "             api_gekentekende_voertuigen_carrosserie  \\\n",
              "0    https://opendata.rdw.nl/resource/vezc-m2t6.json   \n",
              "1    https://opendata.rdw.nl/resource/vezc-m2t6.json   \n",
              "2    https://opendata.rdw.nl/resource/vezc-m2t6.json   \n",
              "3    https://opendata.rdw.nl/resource/vezc-m2t6.json   \n",
              "4    https://opendata.rdw.nl/resource/vezc-m2t6.json   \n",
              "..                                               ...   \n",
              "313  https://opendata.rdw.nl/resource/vezc-m2t6.json   \n",
              "314  https://opendata.rdw.nl/resource/vezc-m2t6.json   \n",
              "315  https://opendata.rdw.nl/resource/vezc-m2t6.json   \n",
              "316  https://opendata.rdw.nl/resource/vezc-m2t6.json   \n",
              "317  https://opendata.rdw.nl/resource/vezc-m2t6.json   \n",
              "\n",
              "    api_gekentekende_voertuigen_carrosserie_specifiek  \\\n",
              "0     https://opendata.rdw.nl/resource/jhie-znh9.json   \n",
              "1     https://opendata.rdw.nl/resource/jhie-znh9.json   \n",
              "2     https://opendata.rdw.nl/resource/jhie-znh9.json   \n",
              "3     https://opendata.rdw.nl/resource/jhie-znh9.json   \n",
              "4     https://opendata.rdw.nl/resource/jhie-znh9.json   \n",
              "..                                                ...   \n",
              "313   https://opendata.rdw.nl/resource/jhie-znh9.json   \n",
              "314   https://opendata.rdw.nl/resource/jhie-znh9.json   \n",
              "315   https://opendata.rdw.nl/resource/jhie-znh9.json   \n",
              "316   https://opendata.rdw.nl/resource/jhie-znh9.json   \n",
              "317   https://opendata.rdw.nl/resource/jhie-znh9.json   \n",
              "\n",
              "          api_gekentekende_voertuigen_voertuigklasse zuinigheidsclassificatie  \\\n",
              "0    https://opendata.rdw.nl/resource/kmfi-hrps.json                      NaN   \n",
              "1    https://opendata.rdw.nl/resource/kmfi-hrps.json                      NaN   \n",
              "2    https://opendata.rdw.nl/resource/kmfi-hrps.json                      NaN   \n",
              "3    https://opendata.rdw.nl/resource/kmfi-hrps.json                      NaN   \n",
              "4    https://opendata.rdw.nl/resource/kmfi-hrps.json                      NaN   \n",
              "..                                               ...                      ...   \n",
              "313  https://opendata.rdw.nl/resource/kmfi-hrps.json                      NaN   \n",
              "314  https://opendata.rdw.nl/resource/kmfi-hrps.json                      NaN   \n",
              "315  https://opendata.rdw.nl/resource/kmfi-hrps.json                      NaN   \n",
              "316  https://opendata.rdw.nl/resource/kmfi-hrps.json                      NaN   \n",
              "317  https://opendata.rdw.nl/resource/kmfi-hrps.json                      NaN   \n",
              "\n",
              "    plaats_chassisnummer  \n",
              "0                    NaN  \n",
              "1                    NaN  \n",
              "2                    NaN  \n",
              "3                    NaN  \n",
              "4                    NaN  \n",
              "..                   ...  \n",
              "313                  NaN  \n",
              "314                  NaN  \n",
              "315                  NaN  \n",
              "316                  NaN  \n",
              "317                  NaN  \n",
              "\n",
              "[318 rows x 59 columns]"
            ],
            "text/html": [
              "\n",
              "  <div id=\"df-df783dd8-b0c0-4601-80b2-3f0cd15963dc\" class=\"colab-df-container\">\n",
              "    <div>\n",
              "<style scoped>\n",
              "    .dataframe tbody tr th:only-of-type {\n",
              "        vertical-align: middle;\n",
              "    }\n",
              "\n",
              "    .dataframe tbody tr th {\n",
              "        vertical-align: top;\n",
              "    }\n",
              "\n",
              "    .dataframe thead th {\n",
              "        text-align: right;\n",
              "    }\n",
              "</style>\n",
              "<table border=\"1\" class=\"dataframe\">\n",
              "  <thead>\n",
              "    <tr style=\"text-align: right;\">\n",
              "      <th></th>\n",
              "      <th>kenteken</th>\n",
              "      <th>voertuigsoort</th>\n",
              "      <th>merk</th>\n",
              "      <th>handelsbenaming</th>\n",
              "      <th>vervaldatum_apk</th>\n",
              "      <th>datum_tenaamstelling</th>\n",
              "      <th>bruto_bpm</th>\n",
              "      <th>inrichting</th>\n",
              "      <th>aantal_zitplaatsen</th>\n",
              "      <th>eerste_kleur</th>\n",
              "      <th>...</th>\n",
              "      <th>hoogte_voertuig</th>\n",
              "      <th>registratie_datum_goedkeuring_afschrijvingsmoment_bpm</th>\n",
              "      <th>registratie_datum_goedkeuring_afschrijvingsmoment_bpm_dt</th>\n",
              "      <th>api_gekentekende_voertuigen_assen</th>\n",
              "      <th>api_gekentekende_voertuigen_brandstof</th>\n",
              "      <th>api_gekentekende_voertuigen_carrosserie</th>\n",
              "      <th>api_gekentekende_voertuigen_carrosserie_specifiek</th>\n",
              "      <th>api_gekentekende_voertuigen_voertuigklasse</th>\n",
              "      <th>zuinigheidsclassificatie</th>\n",
              "      <th>plaats_chassisnummer</th>\n",
              "    </tr>\n",
              "  </thead>\n",
              "  <tbody>\n",
              "    <tr>\n",
              "      <th>0</th>\n",
              "      <td>X053GK</td>\n",
              "      <td>Personenauto</td>\n",
              "      <td>BMW</td>\n",
              "      <td>118i</td>\n",
              "      <td>20270527</td>\n",
              "      <td>20240105</td>\n",
              "      <td>2340</td>\n",
              "      <td>hatchback</td>\n",
              "      <td>5</td>\n",
              "      <td>ZWART</td>\n",
              "      <td>...</td>\n",
              "      <td>143</td>\n",
              "      <td>20231026</td>\n",
              "      <td>2023-10-26T00:00:00.000</td>\n",
              "      <td>https://opendata.rdw.nl/resource/3huj-srit.json</td>\n",
              "      <td>https://opendata.rdw.nl/resource/8ys7-d773.json</td>\n",
              "      <td>https://opendata.rdw.nl/resource/vezc-m2t6.json</td>\n",
              "      <td>https://opendata.rdw.nl/resource/jhie-znh9.json</td>\n",
              "      <td>https://opendata.rdw.nl/resource/kmfi-hrps.json</td>\n",
              "      <td>NaN</td>\n",
              "      <td>NaN</td>\n",
              "    </tr>\n",
              "    <tr>\n",
              "      <th>1</th>\n",
              "      <td>X148VF</td>\n",
              "      <td>Personenauto</td>\n",
              "      <td>BMW</td>\n",
              "      <td>118i</td>\n",
              "      <td>20261218</td>\n",
              "      <td>20250519</td>\n",
              "      <td>1847</td>\n",
              "      <td>hatchback</td>\n",
              "      <td>5</td>\n",
              "      <td>GRIJS</td>\n",
              "      <td>...</td>\n",
              "      <td>143</td>\n",
              "      <td>20240124</td>\n",
              "      <td>2024-01-24T00:00:00.000</td>\n",
              "      <td>https://opendata.rdw.nl/resource/3huj-srit.json</td>\n",
              "      <td>https://opendata.rdw.nl/resource/8ys7-d773.json</td>\n",
              "      <td>https://opendata.rdw.nl/resource/vezc-m2t6.json</td>\n",
              "      <td>https://opendata.rdw.nl/resource/jhie-znh9.json</td>\n",
              "      <td>https://opendata.rdw.nl/resource/kmfi-hrps.json</td>\n",
              "      <td>NaN</td>\n",
              "      <td>NaN</td>\n",
              "    </tr>\n",
              "    <tr>\n",
              "      <th>2</th>\n",
              "      <td>Z480NV</td>\n",
              "      <td>Personenauto</td>\n",
              "      <td>BMW</td>\n",
              "      <td>118i</td>\n",
              "      <td>20271029</td>\n",
              "      <td>20240525</td>\n",
              "      <td>4388</td>\n",
              "      <td>hatchback</td>\n",
              "      <td>5</td>\n",
              "      <td>ZWART</td>\n",
              "      <td>...</td>\n",
              "      <td>143</td>\n",
              "      <td>20240514</td>\n",
              "      <td>2024-05-14T00:00:00.000</td>\n",
              "      <td>https://opendata.rdw.nl/resource/3huj-srit.json</td>\n",
              "      <td>https://opendata.rdw.nl/resource/8ys7-d773.json</td>\n",
              "      <td>https://opendata.rdw.nl/resource/vezc-m2t6.json</td>\n",
              "      <td>https://opendata.rdw.nl/resource/jhie-znh9.json</td>\n",
              "      <td>https://opendata.rdw.nl/resource/kmfi-hrps.json</td>\n",
              "      <td>NaN</td>\n",
              "      <td>NaN</td>\n",
              "    </tr>\n",
              "    <tr>\n",
              "      <th>3</th>\n",
              "      <td>HPL31S</td>\n",
              "      <td>Personenauto</td>\n",
              "      <td>BMW</td>\n",
              "      <td>118i</td>\n",
              "      <td>20251216</td>\n",
              "      <td>20250516</td>\n",
              "      <td>3322</td>\n",
              "      <td>hatchback</td>\n",
              "      <td>5</td>\n",
              "      <td>GRIJS</td>\n",
              "      <td>...</td>\n",
              "      <td>143</td>\n",
              "      <td>20250417</td>\n",
              "      <td>2025-04-17T00:00:00.000</td>\n",
              "      <td>https://opendata.rdw.nl/resource/3huj-srit.json</td>\n",
              "      <td>https://opendata.rdw.nl/resource/8ys7-d773.json</td>\n",
              "      <td>https://opendata.rdw.nl/resource/vezc-m2t6.json</td>\n",
              "      <td>https://opendata.rdw.nl/resource/jhie-znh9.json</td>\n",
              "      <td>https://opendata.rdw.nl/resource/kmfi-hrps.json</td>\n",
              "      <td>NaN</td>\n",
              "      <td>NaN</td>\n",
              "    </tr>\n",
              "    <tr>\n",
              "      <th>4</th>\n",
              "      <td>T643TG</td>\n",
              "      <td>Personenauto</td>\n",
              "      <td>BMW</td>\n",
              "      <td>118i</td>\n",
              "      <td>20270522</td>\n",
              "      <td>20231031</td>\n",
              "      <td>4466</td>\n",
              "      <td>hatchback</td>\n",
              "      <td>5</td>\n",
              "      <td>ZWART</td>\n",
              "      <td>...</td>\n",
              "      <td>143</td>\n",
              "      <td>20230822</td>\n",
              "      <td>2023-08-22T00:00:00.000</td>\n",
              "      <td>https://opendata.rdw.nl/resource/3huj-srit.json</td>\n",
              "      <td>https://opendata.rdw.nl/resource/8ys7-d773.json</td>\n",
              "      <td>https://opendata.rdw.nl/resource/vezc-m2t6.json</td>\n",
              "      <td>https://opendata.rdw.nl/resource/jhie-znh9.json</td>\n",
              "      <td>https://opendata.rdw.nl/resource/kmfi-hrps.json</td>\n",
              "      <td>NaN</td>\n",
              "      <td>NaN</td>\n",
              "    </tr>\n",
              "    <tr>\n",
              "      <th>...</th>\n",
              "      <td>...</td>\n",
              "      <td>...</td>\n",
              "      <td>...</td>\n",
              "      <td>...</td>\n",
              "      <td>...</td>\n",
              "      <td>...</td>\n",
              "      <td>...</td>\n",
              "      <td>...</td>\n",
              "      <td>...</td>\n",
              "      <td>...</td>\n",
              "      <td>...</td>\n",
              "      <td>...</td>\n",
              "      <td>...</td>\n",
              "      <td>...</td>\n",
              "      <td>...</td>\n",
              "      <td>...</td>\n",
              "      <td>...</td>\n",
              "      <td>...</td>\n",
              "      <td>...</td>\n",
              "      <td>...</td>\n",
              "      <td>...</td>\n",
              "    </tr>\n",
              "    <tr>\n",
              "      <th>313</th>\n",
              "      <td>T901TG</td>\n",
              "      <td>Personenauto</td>\n",
              "      <td>BMW</td>\n",
              "      <td>118i</td>\n",
              "      <td>20271115</td>\n",
              "      <td>20230928</td>\n",
              "      <td>4957</td>\n",
              "      <td>hatchback</td>\n",
              "      <td>5</td>\n",
              "      <td>GRIJS</td>\n",
              "      <td>...</td>\n",
              "      <td>143</td>\n",
              "      <td>20230822</td>\n",
              "      <td>2023-08-22T00:00:00.000</td>\n",
              "      <td>https://opendata.rdw.nl/resource/3huj-srit.json</td>\n",
              "      <td>https://opendata.rdw.nl/resource/8ys7-d773.json</td>\n",
              "      <td>https://opendata.rdw.nl/resource/vezc-m2t6.json</td>\n",
              "      <td>https://opendata.rdw.nl/resource/jhie-znh9.json</td>\n",
              "      <td>https://opendata.rdw.nl/resource/kmfi-hrps.json</td>\n",
              "      <td>NaN</td>\n",
              "      <td>NaN</td>\n",
              "    </tr>\n",
              "    <tr>\n",
              "      <th>314</th>\n",
              "      <td>X898HT</td>\n",
              "      <td>Personenauto</td>\n",
              "      <td>BMW</td>\n",
              "      <td>118i</td>\n",
              "      <td>20271130</td>\n",
              "      <td>20241116</td>\n",
              "      <td>1787</td>\n",
              "      <td>hatchback</td>\n",
              "      <td>5</td>\n",
              "      <td>GRIJS</td>\n",
              "      <td>...</td>\n",
              "      <td>143</td>\n",
              "      <td>20231108</td>\n",
              "      <td>2023-11-08T00:00:00.000</td>\n",
              "      <td>https://opendata.rdw.nl/resource/3huj-srit.json</td>\n",
              "      <td>https://opendata.rdw.nl/resource/8ys7-d773.json</td>\n",
              "      <td>https://opendata.rdw.nl/resource/vezc-m2t6.json</td>\n",
              "      <td>https://opendata.rdw.nl/resource/jhie-znh9.json</td>\n",
              "      <td>https://opendata.rdw.nl/resource/kmfi-hrps.json</td>\n",
              "      <td>NaN</td>\n",
              "      <td>NaN</td>\n",
              "    </tr>\n",
              "    <tr>\n",
              "      <th>315</th>\n",
              "      <td>R368KH</td>\n",
              "      <td>Personenauto</td>\n",
              "      <td>BMW</td>\n",
              "      <td>118i</td>\n",
              "      <td>20270428</td>\n",
              "      <td>20231005</td>\n",
              "      <td>2532</td>\n",
              "      <td>hatchback</td>\n",
              "      <td>5</td>\n",
              "      <td>WIT</td>\n",
              "      <td>...</td>\n",
              "      <td>143</td>\n",
              "      <td>20220920</td>\n",
              "      <td>2022-09-20T00:00:00.000</td>\n",
              "      <td>https://opendata.rdw.nl/resource/3huj-srit.json</td>\n",
              "      <td>https://opendata.rdw.nl/resource/8ys7-d773.json</td>\n",
              "      <td>https://opendata.rdw.nl/resource/vezc-m2t6.json</td>\n",
              "      <td>https://opendata.rdw.nl/resource/jhie-znh9.json</td>\n",
              "      <td>https://opendata.rdw.nl/resource/kmfi-hrps.json</td>\n",
              "      <td>NaN</td>\n",
              "      <td>NaN</td>\n",
              "    </tr>\n",
              "    <tr>\n",
              "      <th>316</th>\n",
              "      <td>Z362NZ</td>\n",
              "      <td>Personenauto</td>\n",
              "      <td>BMW</td>\n",
              "      <td>118i</td>\n",
              "      <td>20260529</td>\n",
              "      <td>20240601</td>\n",
              "      <td>2218</td>\n",
              "      <td>hatchback</td>\n",
              "      <td>5</td>\n",
              "      <td>ZWART</td>\n",
              "      <td>...</td>\n",
              "      <td>143</td>\n",
              "      <td>20240430</td>\n",
              "      <td>2024-04-30T00:00:00.000</td>\n",
              "      <td>https://opendata.rdw.nl/resource/3huj-srit.json</td>\n",
              "      <td>https://opendata.rdw.nl/resource/8ys7-d773.json</td>\n",
              "      <td>https://opendata.rdw.nl/resource/vezc-m2t6.json</td>\n",
              "      <td>https://opendata.rdw.nl/resource/jhie-znh9.json</td>\n",
              "      <td>https://opendata.rdw.nl/resource/kmfi-hrps.json</td>\n",
              "      <td>NaN</td>\n",
              "      <td>NaN</td>\n",
              "    </tr>\n",
              "    <tr>\n",
              "      <th>317</th>\n",
              "      <td>S784BJ</td>\n",
              "      <td>Personenauto</td>\n",
              "      <td>BMW</td>\n",
              "      <td>118i</td>\n",
              "      <td>20270730</td>\n",
              "      <td>20230420</td>\n",
              "      <td>2474</td>\n",
              "      <td>hatchback</td>\n",
              "      <td>5</td>\n",
              "      <td>WIT</td>\n",
              "      <td>...</td>\n",
              "      <td>143</td>\n",
              "      <td>20221220</td>\n",
              "      <td>2022-12-20T00:00:00.000</td>\n",
              "      <td>https://opendata.rdw.nl/resource/3huj-srit.json</td>\n",
              "      <td>https://opendata.rdw.nl/resource/8ys7-d773.json</td>\n",
              "      <td>https://opendata.rdw.nl/resource/vezc-m2t6.json</td>\n",
              "      <td>https://opendata.rdw.nl/resource/jhie-znh9.json</td>\n",
              "      <td>https://opendata.rdw.nl/resource/kmfi-hrps.json</td>\n",
              "      <td>NaN</td>\n",
              "      <td>NaN</td>\n",
              "    </tr>\n",
              "  </tbody>\n",
              "</table>\n",
              "<p>318 rows × 59 columns</p>\n",
              "</div>\n",
              "    <div class=\"colab-df-buttons\">\n",
              "\n",
              "  <div class=\"colab-df-container\">\n",
              "    <button class=\"colab-df-convert\" onclick=\"convertToInteractive('df-df783dd8-b0c0-4601-80b2-3f0cd15963dc')\"\n",
              "            title=\"Convert this dataframe to an interactive table.\"\n",
              "            style=\"display:none;\">\n",
              "\n",
              "  <svg xmlns=\"http://www.w3.org/2000/svg\" height=\"24px\" viewBox=\"0 -960 960 960\">\n",
              "    <path d=\"M120-120v-720h720v720H120Zm60-500h600v-160H180v160Zm220 220h160v-160H400v160Zm0 220h160v-160H400v160ZM180-400h160v-160H180v160Zm440 0h160v-160H620v160ZM180-180h160v-160H180v160Zm440 0h160v-160H620v160Z\"/>\n",
              "  </svg>\n",
              "    </button>\n",
              "\n",
              "  <style>\n",
              "    .colab-df-container {\n",
              "      display:flex;\n",
              "      gap: 12px;\n",
              "    }\n",
              "\n",
              "    .colab-df-convert {\n",
              "      background-color: #E8F0FE;\n",
              "      border: none;\n",
              "      border-radius: 50%;\n",
              "      cursor: pointer;\n",
              "      display: none;\n",
              "      fill: #1967D2;\n",
              "      height: 32px;\n",
              "      padding: 0 0 0 0;\n",
              "      width: 32px;\n",
              "    }\n",
              "\n",
              "    .colab-df-convert:hover {\n",
              "      background-color: #E2EBFA;\n",
              "      box-shadow: 0px 1px 2px rgba(60, 64, 67, 0.3), 0px 1px 3px 1px rgba(60, 64, 67, 0.15);\n",
              "      fill: #174EA6;\n",
              "    }\n",
              "\n",
              "    .colab-df-buttons div {\n",
              "      margin-bottom: 4px;\n",
              "    }\n",
              "\n",
              "    [theme=dark] .colab-df-convert {\n",
              "      background-color: #3B4455;\n",
              "      fill: #D2E3FC;\n",
              "    }\n",
              "\n",
              "    [theme=dark] .colab-df-convert:hover {\n",
              "      background-color: #434B5C;\n",
              "      box-shadow: 0px 1px 3px 1px rgba(0, 0, 0, 0.15);\n",
              "      filter: drop-shadow(0px 1px 2px rgba(0, 0, 0, 0.3));\n",
              "      fill: #FFFFFF;\n",
              "    }\n",
              "  </style>\n",
              "\n",
              "    <script>\n",
              "      const buttonEl =\n",
              "        document.querySelector('#df-df783dd8-b0c0-4601-80b2-3f0cd15963dc button.colab-df-convert');\n",
              "      buttonEl.style.display =\n",
              "        google.colab.kernel.accessAllowed ? 'block' : 'none';\n",
              "\n",
              "      async function convertToInteractive(key) {\n",
              "        const element = document.querySelector('#df-df783dd8-b0c0-4601-80b2-3f0cd15963dc');\n",
              "        const dataTable =\n",
              "          await google.colab.kernel.invokeFunction('convertToInteractive',\n",
              "                                                    [key], {});\n",
              "        if (!dataTable) return;\n",
              "\n",
              "        const docLinkHtml = 'Like what you see? Visit the ' +\n",
              "          '<a target=\"_blank\" href=https://colab.research.google.com/notebooks/data_table.ipynb>data table notebook</a>'\n",
              "          + ' to learn more about interactive tables.';\n",
              "        element.innerHTML = '';\n",
              "        dataTable['output_type'] = 'display_data';\n",
              "        await google.colab.output.renderOutput(dataTable, element);\n",
              "        const docLink = document.createElement('div');\n",
              "        docLink.innerHTML = docLinkHtml;\n",
              "        element.appendChild(docLink);\n",
              "      }\n",
              "    </script>\n",
              "  </div>\n",
              "\n",
              "\n",
              "    <div id=\"df-92349c40-2a14-4eb1-9fd2-d53aee8a9084\">\n",
              "      <button class=\"colab-df-quickchart\" onclick=\"quickchart('df-92349c40-2a14-4eb1-9fd2-d53aee8a9084')\"\n",
              "                title=\"Suggest charts\"\n",
              "                style=\"display:none;\">\n",
              "\n",
              "<svg xmlns=\"http://www.w3.org/2000/svg\" height=\"24px\"viewBox=\"0 0 24 24\"\n",
              "     width=\"24px\">\n",
              "    <g>\n",
              "        <path d=\"M19 3H5c-1.1 0-2 .9-2 2v14c0 1.1.9 2 2 2h14c1.1 0 2-.9 2-2V5c0-1.1-.9-2-2-2zM9 17H7v-7h2v7zm4 0h-2V7h2v10zm4 0h-2v-4h2v4z\"/>\n",
              "    </g>\n",
              "</svg>\n",
              "      </button>\n",
              "\n",
              "<style>\n",
              "  .colab-df-quickchart {\n",
              "      --bg-color: #E8F0FE;\n",
              "      --fill-color: #1967D2;\n",
              "      --hover-bg-color: #E2EBFA;\n",
              "      --hover-fill-color: #174EA6;\n",
              "      --disabled-fill-color: #AAA;\n",
              "      --disabled-bg-color: #DDD;\n",
              "  }\n",
              "\n",
              "  [theme=dark] .colab-df-quickchart {\n",
              "      --bg-color: #3B4455;\n",
              "      --fill-color: #D2E3FC;\n",
              "      --hover-bg-color: #434B5C;\n",
              "      --hover-fill-color: #FFFFFF;\n",
              "      --disabled-bg-color: #3B4455;\n",
              "      --disabled-fill-color: #666;\n",
              "  }\n",
              "\n",
              "  .colab-df-quickchart {\n",
              "    background-color: var(--bg-color);\n",
              "    border: none;\n",
              "    border-radius: 50%;\n",
              "    cursor: pointer;\n",
              "    display: none;\n",
              "    fill: var(--fill-color);\n",
              "    height: 32px;\n",
              "    padding: 0;\n",
              "    width: 32px;\n",
              "  }\n",
              "\n",
              "  .colab-df-quickchart:hover {\n",
              "    background-color: var(--hover-bg-color);\n",
              "    box-shadow: 0 1px 2px rgba(60, 64, 67, 0.3), 0 1px 3px 1px rgba(60, 64, 67, 0.15);\n",
              "    fill: var(--button-hover-fill-color);\n",
              "  }\n",
              "\n",
              "  .colab-df-quickchart-complete:disabled,\n",
              "  .colab-df-quickchart-complete:disabled:hover {\n",
              "    background-color: var(--disabled-bg-color);\n",
              "    fill: var(--disabled-fill-color);\n",
              "    box-shadow: none;\n",
              "  }\n",
              "\n",
              "  .colab-df-spinner {\n",
              "    border: 2px solid var(--fill-color);\n",
              "    border-color: transparent;\n",
              "    border-bottom-color: var(--fill-color);\n",
              "    animation:\n",
              "      spin 1s steps(1) infinite;\n",
              "  }\n",
              "\n",
              "  @keyframes spin {\n",
              "    0% {\n",
              "      border-color: transparent;\n",
              "      border-bottom-color: var(--fill-color);\n",
              "      border-left-color: var(--fill-color);\n",
              "    }\n",
              "    20% {\n",
              "      border-color: transparent;\n",
              "      border-left-color: var(--fill-color);\n",
              "      border-top-color: var(--fill-color);\n",
              "    }\n",
              "    30% {\n",
              "      border-color: transparent;\n",
              "      border-left-color: var(--fill-color);\n",
              "      border-top-color: var(--fill-color);\n",
              "      border-right-color: var(--fill-color);\n",
              "    }\n",
              "    40% {\n",
              "      border-color: transparent;\n",
              "      border-right-color: var(--fill-color);\n",
              "      border-top-color: var(--fill-color);\n",
              "    }\n",
              "    60% {\n",
              "      border-color: transparent;\n",
              "      border-right-color: var(--fill-color);\n",
              "    }\n",
              "    80% {\n",
              "      border-color: transparent;\n",
              "      border-right-color: var(--fill-color);\n",
              "      border-bottom-color: var(--fill-color);\n",
              "    }\n",
              "    90% {\n",
              "      border-color: transparent;\n",
              "      border-bottom-color: var(--fill-color);\n",
              "    }\n",
              "  }\n",
              "</style>\n",
              "\n",
              "      <script>\n",
              "        async function quickchart(key) {\n",
              "          const quickchartButtonEl =\n",
              "            document.querySelector('#' + key + ' button');\n",
              "          quickchartButtonEl.disabled = true;  // To prevent multiple clicks.\n",
              "          quickchartButtonEl.classList.add('colab-df-spinner');\n",
              "          try {\n",
              "            const charts = await google.colab.kernel.invokeFunction(\n",
              "                'suggestCharts', [key], {});\n",
              "          } catch (error) {\n",
              "            console.error('Error during call to suggestCharts:', error);\n",
              "          }\n",
              "          quickchartButtonEl.classList.remove('colab-df-spinner');\n",
              "          quickchartButtonEl.classList.add('colab-df-quickchart-complete');\n",
              "        }\n",
              "        (() => {\n",
              "          let quickchartButtonEl =\n",
              "            document.querySelector('#df-92349c40-2a14-4eb1-9fd2-d53aee8a9084 button');\n",
              "          quickchartButtonEl.style.display =\n",
              "            google.colab.kernel.accessAllowed ? 'block' : 'none';\n",
              "        })();\n",
              "      </script>\n",
              "    </div>\n",
              "\n",
              "  <div id=\"id_5ecdb53a-c296-436b-ac50-3fe03f938ecc\">\n",
              "    <style>\n",
              "      .colab-df-generate {\n",
              "        background-color: #E8F0FE;\n",
              "        border: none;\n",
              "        border-radius: 50%;\n",
              "        cursor: pointer;\n",
              "        display: none;\n",
              "        fill: #1967D2;\n",
              "        height: 32px;\n",
              "        padding: 0 0 0 0;\n",
              "        width: 32px;\n",
              "      }\n",
              "\n",
              "      .colab-df-generate:hover {\n",
              "        background-color: #E2EBFA;\n",
              "        box-shadow: 0px 1px 2px rgba(60, 64, 67, 0.3), 0px 1px 3px 1px rgba(60, 64, 67, 0.15);\n",
              "        fill: #174EA6;\n",
              "      }\n",
              "\n",
              "      [theme=dark] .colab-df-generate {\n",
              "        background-color: #3B4455;\n",
              "        fill: #D2E3FC;\n",
              "      }\n",
              "\n",
              "      [theme=dark] .colab-df-generate:hover {\n",
              "        background-color: #434B5C;\n",
              "        box-shadow: 0px 1px 3px 1px rgba(0, 0, 0, 0.15);\n",
              "        filter: drop-shadow(0px 1px 2px rgba(0, 0, 0, 0.3));\n",
              "        fill: #FFFFFF;\n",
              "      }\n",
              "    </style>\n",
              "    <button class=\"colab-df-generate\" onclick=\"generateWithVariable('df')\"\n",
              "            title=\"Generate code using this dataframe.\"\n",
              "            style=\"display:none;\">\n",
              "\n",
              "  <svg xmlns=\"http://www.w3.org/2000/svg\" height=\"24px\"viewBox=\"0 0 24 24\"\n",
              "       width=\"24px\">\n",
              "    <path d=\"M7,19H8.4L18.45,9,17,7.55,7,17.6ZM5,21V16.75L18.45,3.32a2,2,0,0,1,2.83,0l1.4,1.43a1.91,1.91,0,0,1,.58,1.4,1.91,1.91,0,0,1-.58,1.4L9.25,21ZM18.45,9,17,7.55Zm-12,3A5.31,5.31,0,0,0,4.9,8.1,5.31,5.31,0,0,0,1,6.5,5.31,5.31,0,0,0,4.9,4.9,5.31,5.31,0,0,0,6.5,1,5.31,5.31,0,0,0,8.1,4.9,5.31,5.31,0,0,0,12,6.5,5.46,5.46,0,0,0,6.5,12Z\"/>\n",
              "  </svg>\n",
              "    </button>\n",
              "    <script>\n",
              "      (() => {\n",
              "      const buttonEl =\n",
              "        document.querySelector('#id_5ecdb53a-c296-436b-ac50-3fe03f938ecc button.colab-df-generate');\n",
              "      buttonEl.style.display =\n",
              "        google.colab.kernel.accessAllowed ? 'block' : 'none';\n",
              "\n",
              "      buttonEl.onclick = () => {\n",
              "        google.colab.notebook.generateWithVariable('df');\n",
              "      }\n",
              "      })();\n",
              "    </script>\n",
              "  </div>\n",
              "\n",
              "    </div>\n",
              "  </div>\n"
            ],
            "application/vnd.google.colaboratory.intrinsic+json": {
              "type": "dataframe",
              "variable_name": "df"
            }
          },
          "metadata": {},
          "execution_count": 4
        }
      ]
    },
    {
      "cell_type": "markdown",
      "source": [
        "cleaning of the dataset by converting price and date columns to numeric and datetime formats, removing invalid or missing entries, and filtering out cars with unrealistic prices."
      ],
      "metadata": {
        "id": "K4VJlHdZrizQ"
      }
    },
    {
      "cell_type": "code",
      "source": [
        "df['catalogusprijs'] = pd.to_numeric(df['catalogusprijs'], errors='coerce')  # coerce invalid to NaN\n",
        "df['datum_eerste_tenaamstelling_in_nederland'] = pd.to_datetime(df['datum_eerste_tenaamstelling_in_nederland'], errors='coerce', format='%Y%m%d')\n",
        "df['datum_tenaamstelling'] = pd.to_datetime(df['datum_tenaamstelling'], errors='coerce', format='%Y%m%d')\n",
        "\n",
        "# Drop rows with missing catalogusprijs or datum_tenaamstelling\n",
        "df = df.dropna(subset=['catalogusprijs', 'datum_tenaamstelling'])\n",
        "\n",
        "# Optional: filter out extremely large/unrealistic catalogusprijs\n",
        "df = df[df['catalogusprijs'] < 1e7]"
      ],
      "metadata": {
        "id": "XI3XkqmJrb2a"
      },
      "execution_count": 5,
      "outputs": []
    },
    {
      "cell_type": "markdown",
      "source": [
        "Create Occassion Dummy"
      ],
      "metadata": {
        "id": "ft7I2p0irmKU"
      }
    },
    {
      "cell_type": "code",
      "source": [
        "df['Occasion'] = np.where(\n",
        "    df['datum_eerste_tenaamstelling_in_nederland'] != df['datum_tenaamstelling'], 1, 0\n",
        ")"
      ],
      "metadata": {
        "id": "OtFTs6zmrqls"
      },
      "execution_count": 6,
      "outputs": []
    },
    {
      "cell_type": "markdown",
      "source": [
        "Extract year"
      ],
      "metadata": {
        "id": "zxO70lfdrqNZ"
      }
    },
    {
      "cell_type": "code",
      "source": [
        "df['year'] = df['datum_tenaamstelling'].dt.year\n",
        "df = df.dropna(subset=['year'])"
      ],
      "metadata": {
        "id": "0sN4Apm8rteT"
      },
      "execution_count": 9,
      "outputs": []
    },
    {
      "cell_type": "markdown",
      "source": [
        "Computing Statistics: avg, count records per year, market cap"
      ],
      "metadata": {
        "id": "mCQWIhzarvfd"
      }
    },
    {
      "cell_type": "code",
      "source": [
        "avg_price = df.groupby('Occasion')['catalogusprijs'].mean()\n",
        "avg_new = avg_price.get(0, np.nan)\n",
        "avg_occ = avg_price.get(1, np.nan)\n",
        "print(f\"Average catalogusprijs New: {avg_new:.2f}\")\n",
        "print(f\"Average catalogusprijs Occasion: {avg_occ:.2f}\")"
      ],
      "metadata": {
        "colab": {
          "base_uri": "https://localhost:8080/"
        },
        "id": "NiFbn3lPr4HR",
        "outputId": "ee5a3114-6851-41ef-b2c3-e26d39e0e28d"
      },
      "execution_count": 7,
      "outputs": [
        {
          "output_type": "stream",
          "name": "stdout",
          "text": [
            "Average catalogusprijs New: 44382.22\n",
            "Average catalogusprijs Occasion: 44409.23\n"
          ]
        }
      ]
    },
    {
      "cell_type": "code",
      "source": [
        "counts = df.groupby(['year', 'Occasion']).agg(\n",
        "    count=('catalogusprijs','size'),\n",
        "    avg_price=('catalogusprijs','mean')\n",
        ").reset_index()\n",
        "\n",
        "counts['market_cap'] = counts['count'] * counts['avg_price']"
      ],
      "metadata": {
        "id": "9h9vZjDUr6fo"
      },
      "execution_count": 10,
      "outputs": []
    },
    {
      "cell_type": "code",
      "source": [
        "print(counts['year'].min(), counts['year'].max())"
      ],
      "metadata": {
        "colab": {
          "base_uri": "https://localhost:8080/"
        },
        "id": "VR-qOjMawme1",
        "outputId": "850b54a3-daa0-4789-8bab-38c9f0eef8a8"
      },
      "execution_count": 28,
      "outputs": [
        {
          "output_type": "stream",
          "name": "stdout",
          "text": [
            "2022 2025\n"
          ]
        }
      ]
    },
    {
      "cell_type": "markdown",
      "source": [
        "Forecasting of market trends for new and used cars over the next five years, achieved by applying linear regression to past yearly data and projecting future values based on the fitted trend."
      ],
      "metadata": {
        "id": "C7mtQ29gr2SU"
      }
    },
    {
      "cell_type": "code",
      "source": [
        "last_year = counts['year'].max()\n",
        "forecast_years = np.arange(last_year + 1, last_year + 6)\n",
        "\n",
        "# LR separately for New and Occasion\n",
        "forecast_dfs = []\n",
        "for occ in [0,1]:\n",
        "    sub = counts[counts['Occasion']==occ]\n",
        "    if len(sub) > 1:  # need at least 2 points for regression\n",
        "        model = LinearRegression()\n",
        "        model.fit(sub[['year']], sub['market_cap'])\n",
        "        pred = model.predict(forecast_years.reshape(-1,1))\n",
        "        df_forecast = pd.DataFrame({\n",
        "            'year': forecast_years,\n",
        "            'Occasion': occ,\n",
        "            'market_cap': pred,\n",
        "            'count': np.nan\n",
        "        })\n",
        "        forecast_dfs.append(df_forecast)\n",
        "\n",
        "forecast_df = pd.concat(forecast_dfs, ignore_index=True)\n",
        "plot_df = pd.concat([counts, forecast_df], ignore_index=True)"
      ],
      "metadata": {
        "colab": {
          "base_uri": "https://localhost:8080/"
        },
        "id": "yplmVMM5sJ2a",
        "outputId": "f4f97b4c-55d7-4e23-aa6b-9208f7f1ea57"
      },
      "execution_count": 11,
      "outputs": [
        {
          "output_type": "stream",
          "name": "stderr",
          "text": [
            "/usr/local/lib/python3.12/dist-packages/sklearn/utils/validation.py:2739: UserWarning: X does not have valid feature names, but LinearRegression was fitted with feature names\n",
            "  warnings.warn(\n",
            "/usr/local/lib/python3.12/dist-packages/sklearn/utils/validation.py:2739: UserWarning: X does not have valid feature names, but LinearRegression was fitted with feature names\n",
            "  warnings.warn(\n"
          ]
        }
      ]
    },
    {
      "cell_type": "code",
      "source": [
        "# Map labels for clearer interpretation in the data.\n",
        "plot_df['Type'] = plot_df['Occasion'].map({0:'New', 1:'Occasion'})"
      ],
      "metadata": {
        "id": "SONDZaiGsVTM"
      },
      "execution_count": 13,
      "outputs": []
    },
    {
      "cell_type": "markdown",
      "source": [
        "To compare results, the same forecasting process is repeated using a Logistic Regression model. This allows evaluating how a nonlinear, probability-based model performs relative to the linear regression in predicting future market trends for new and used cars."
      ],
      "metadata": {
        "id": "bgYj6UWVtgvz"
      }
    },
    {
      "cell_type": "code",
      "source": [
        "forecast_dfs_log = []\n",
        "for occ in [0, 1]:\n",
        "    sub = counts[counts['Occasion'] == occ]\n",
        "    if len(sub) > 1:  # need at least 2 points\n",
        "        model = LogisticRegression(max_iter=1000)\n",
        "        # Fit model on scaled years (for stability)\n",
        "        X = sub[['year']]\n",
        "        y = (sub['market_cap'] > sub['market_cap'].median()).astype(int)  # binary transformation\n",
        "        model.fit(X, y)\n",
        "\n",
        "        # Predict probabilities for future years\n",
        "        probs = model.predict_proba(forecast_years.reshape(-1, 1))[:, 1]\n",
        "\n",
        "        df_forecast = pd.DataFrame({\n",
        "            'year': forecast_years,\n",
        "            'Occasion': occ,\n",
        "            'market_cap': probs * sub['market_cap'].max(),  # rescale to compare with LR\n",
        "            'count': np.nan\n",
        "        })\n",
        "        forecast_dfs_log.append(df_forecast)\n",
        "\n",
        "forecast_df_log = pd.concat(forecast_dfs_log, ignore_index=True)\n",
        "\n",
        "# Combine historical + logistic forecast data\n",
        "plot_df_log = pd.concat([counts, forecast_df_log], ignore_index=True)"
      ],
      "metadata": {
        "colab": {
          "base_uri": "https://localhost:8080/"
        },
        "id": "-XUlfuU9tlv3",
        "outputId": "3c947a71-149d-4e2e-857b-d40bb154cb02"
      },
      "execution_count": 18,
      "outputs": [
        {
          "output_type": "stream",
          "name": "stderr",
          "text": [
            "/usr/local/lib/python3.12/dist-packages/sklearn/utils/validation.py:2739: UserWarning: X does not have valid feature names, but LogisticRegression was fitted with feature names\n",
            "  warnings.warn(\n",
            "/usr/local/lib/python3.12/dist-packages/sklearn/utils/validation.py:2739: UserWarning: X does not have valid feature names, but LogisticRegression was fitted with feature names\n",
            "  warnings.warn(\n"
          ]
        }
      ]
    },
    {
      "cell_type": "code",
      "source": [
        "plot_df_log['Type'] = plot_df['Occasion'].map({0:'New', 1:'Occasion'})"
      ],
      "metadata": {
        "id": "7PbQOHxEugxJ"
      },
      "execution_count": 20,
      "outputs": []
    },
    {
      "cell_type": "markdown",
      "source": [
        "###Plots"
      ],
      "metadata": {
        "id": "BOmGgjyJsqMk"
      }
    },
    {
      "cell_type": "markdown",
      "source": [
        "Linear regression"
      ],
      "metadata": {
        "id": "mnZIIeD7t32Y"
      }
    },
    {
      "cell_type": "code",
      "source": [
        "sns.set(style=\"whitegrid\")\n",
        "plt.figure(figsize=(10, 6))\n",
        "\n",
        "#historical data\n",
        "sns.lineplot(\n",
        "    data=plot_df[~plot_df['year'].isin(forecast_df['year'])],\n",
        "    x='year', y='market_cap', hue='Type', style='Type',\n",
        "    markers=True, dashes=False, linewidth=2\n",
        ")\n",
        "\n",
        "#forecast data as dotted lines\n",
        "sns.lineplot(\n",
        "    data=forecast_df.merge(plot_df[['Type', 'Occasion']].drop_duplicates(), on='Occasion'),\n",
        "    x='year', y='market_cap', hue='Type', style='Type',\n",
        "    linewidth=2, linestyle='dotted', legend=False\n",
        ")\n",
        "\n",
        "plt.title(f\"{merk} {handelsbenaming} Market Cap Over Time\", fontsize=14)\n",
        "plt.xlabel(\"Year\")\n",
        "plt.ylabel(\"Market Cap (€)\")\n",
        "plt.legend(title=\"Type\")\n",
        "\n",
        "plt.tight_layout()\n",
        "plt.show()"
      ],
      "metadata": {
        "colab": {
          "base_uri": "https://localhost:8080/",
          "height": 497
        },
        "id": "WqnlbEbVspdR",
        "outputId": "641b765e-043a-417f-86f4-74854a8b9cef"
      },
      "execution_count": 15,
      "outputs": [
        {
          "output_type": "display_data",
          "data": {
            "text/plain": [
              "<Figure size 1000x600 with 1 Axes>"
            ],
            "image/png": "[encoded data removed]"
          },
          "metadata": {}
        }
      ]
    },
    {
      "cell_type": "markdown",
      "source": [
        "Logistic Regression"
      ],
      "metadata": {
        "id": "YWHiI1lbt5sZ"
      }
    },
    {
      "cell_type": "code",
      "source": [
        "sns.set(style=\"whitegrid\")\n",
        "plt.figure(figsize=(10, 6))\n",
        "\n",
        "# Historical data\n",
        "sns.lineplot(\n",
        "    data=plot_df_log[~plot_df_log['year'].isin(forecast_df_log['year'])],\n",
        "    x='year', y='market_cap', hue='Type', style='Type',\n",
        "    markers=True, dashes=False, linewidth=2\n",
        ")\n",
        "\n",
        "# Forecast data as dotted lines\n",
        "sns.lineplot(\n",
        "    data=forecast_df_log.merge(plot_df_log[['Type', 'Occasion']].drop_duplicates(), on='Occasion'),\n",
        "    x='year', y='market_cap', hue='Type', style='Type',\n",
        "    linewidth=2, linestyle='dotted', legend=False\n",
        ")\n",
        "\n",
        "plt.title(f\"{merk} {handelsbenaming} Market Cap Forecast (Logistic Regression)\", fontsize=14)\n",
        "plt.xlabel(\"Year\")\n",
        "plt.ylabel(\"Market Cap (scaled probability × €)\")\n",
        "plt.legend(title=\"Type\")\n",
        "\n",
        "plt.tight_layout()\n",
        "plt.show()\n"
      ],
      "metadata": {
        "colab": {
          "base_uri": "https://localhost:8080/",
          "height": 497
        },
        "id": "fMoma-YOt7ZQ",
        "outputId": "3b5f6cff-de8d-44fe-e037-7f17e498ed29"
      },
      "execution_count": 21,
      "outputs": [
        {
          "output_type": "display_data",
          "data": {
            "text/plain": [
              "<Figure size 1000x600 with 1 Axes>"
            ],
            "image/png": "[encoded data removed]"
          },
          "metadata": {}
        }
      ]
    },
    {
      "cell_type": "markdown",
      "source": [
        "I would personally choose the Logistic because it appears to me to be more accurate. Moreover"
      ],
      "metadata": {
        "id": "J25VChtdv0dS"
      }
    },
    {
      "cell_type": "markdown",
      "source": [
        "## A Streamlit app\n",
        "\n",
        "Version for the Streamilit app that fetches vehicle data from the RDW API, compares new vs. occasion cars, and forecasts market trends using linear regression.\n",
        "\n",
        "It visualizes yearly market capitalization in an interactive Plotly chart."
      ],
      "metadata": {
        "id": "alz3Nxqeq41o"
      }
    },
    {
      "cell_type": "code",
      "source": [
        "import os\n",
        "import requests\n",
        "import pandas as pd\n",
        "import numpy as np\n",
        "import streamlit as st\n",
        "import plotly.express as px\n",
        "from sklearn.linear_model import LogisticRegression"
      ],
      "metadata": {
        "id": "3VFvDAElq9B1"
      },
      "execution_count": null,
      "outputs": []
    },
    {
      "cell_type": "code",
      "source": [
        "RDW_ENDPOINT = \"https://opendata.rdw.nl/resource/m9d7-ebf2.json\""
      ],
      "metadata": {
        "id": "mAxCqak_u9zk"
      },
      "execution_count": 24,
      "outputs": []
    },
    {
      "cell_type": "code",
      "source": [
        "@st.cache_data(show_spinner=False)\n",
        "def fetch_rdw(merk: str, handelsbenaming: str, app_token: str | None = None) -> pd.DataFrame:\n",
        "    headers = {}\n",
        "    if app_token:\n",
        "        headers[\"X-App-Token\"] = app_token\n",
        "\n",
        "    params = {\n",
        "        \"merk\": merk,\n",
        "        \"handelsbenaming\": handelsbenaming,\n",
        "        \"$limit\": 50000\n",
        "    }\n",
        "    resp = requests.get(RDW_ENDPOINT, params=params, headers=headers, timeout=30)\n",
        "    resp.raise_for_status()\n",
        "    data = resp.json()\n",
        "    return pd.DataFrame(data)"
      ],
      "metadata": {
        "id": "1kifSW4xu_X8"
      },
      "execution_count": null,
      "outputs": []
    },
    {
      "cell_type": "code",
      "source": [
        "def prepare_dataframe(df: pd.DataFrame) -> pd.DataFrame:\n",
        "    needed = [\n",
        "        \"catalogusprijs\",\n",
        "        \"datum_eerste_tenaamstelling_in_nederland\",\n",
        "        \"datum_tenaamstelling\",\n",
        "    ]\n",
        "    for k in needed:\n",
        "        if k not in df.columns:\n",
        "            df[k] = None\n",
        "\n",
        "    df[\"catalogusprijs\"] = pd.to_numeric(df[\"catalogusprijs\"], errors=\"coerce\")\n",
        "    df[\"datum_eerste_tenaamstelling_in_nederland\"] = pd.to_datetime(\n",
        "        df[\"datum_eerste_tenaamstelling_in_nederland\"], errors=\"coerce\", format=\"%Y%m%d\"\n",
        "    )\n",
        "    df[\"datum_tenaamstelling\"] = pd.to_datetime(\n",
        "        df[\"datum_tenaamstelling\"], errors=\"coerce\", format=\"%Y%m%d\"\n",
        "    )\n",
        "\n",
        "    df = df.dropna(subset=[\"catalogusprijs\", \"datum_tenaamstelling\"])\n",
        "    df = df[df[\"catalogusprijs\"] < 1e7]\n",
        "\n",
        "    df[\"Occasion\"] = np.where(\n",
        "        df[\"datum_eerste_tenaamstelling_in_nederland\"] != df[\"datum_tenaamstelling\"], 1, 0\n",
        "    )\n",
        "    df[\"year\"] = df[\"datum_tenaamstelling\"].dt.year\n",
        "    df = df.dropna(subset=[\"year\"])\n",
        "    return df"
      ],
      "metadata": {
        "id": "5cXLk-E8vIdl"
      },
      "execution_count": null,
      "outputs": []
    },
    {
      "cell_type": "code",
      "source": [
        "def aggregate_market_cap(df: pd.DataFrame) -> pd.DataFrame:\n",
        "    counts = df.groupby([\"year\", \"Occasion\"]).agg(\n",
        "        count=(\"catalogusprijs\",\"size\"),\n",
        "        avg_price=(\"catalogusprijs\",\"mean\")\n",
        "    ).reset_index()\n",
        "    counts[\"market_cap\"] = counts[\"count\"] * counts[\"avg_price\"]\n",
        "    return counts"
      ],
      "metadata": {
        "id": "kEbo3nnTvsCS"
      },
      "execution_count": null,
      "outputs": []
    },
    {
      "cell_type": "code",
      "source": [
        "def forecast_market_cap(counts: pd.DataFrame, years_ahead: int = 5) -> pd.DataFrame:\n",
        "    if counts.empty:\n",
        "        return pd.DataFrame(columns=[\"year\", \"Occasion\", \"market_cap\", \"count\"])\n",
        "    last_year = int(counts[\"year\"].max())\n",
        "    forecast_years = np.arange(last_year + 1, last_year + years_ahead + 1)\n",
        "\n",
        "    forecast_dfs = []\n",
        "    for occ in [0, 1]:\n",
        "        sub = counts[counts[\"Occasion\"] == occ]\n",
        "        if len(sub) > 1:\n",
        "            model = LinearRegression()\n",
        "            model.fit(sub[[\"year\"]], sub[\"market_cap\"])\n",
        "            pred = model.predict(forecast_years.reshape(-1, 1))\n",
        "            forecast_dfs.append(pd.DataFrame({\n",
        "                \"year\": forecast_years,\n",
        "                \"Occasion\": occ,\n",
        "                \"market_cap\": pred,\n",
        "                \"count\": np.nan\n",
        "            }))\n",
        "\n",
        "    if not forecast_dfs:\n",
        "        return pd.DataFrame(columns=[\"year\", \"Occasion\", \"market_cap\", \"count\"])\n",
        "    return pd.concat(forecast_dfs, ignore_index=True)\n",
        "\n",
        "st.set_page_config(page_title=\"RDW Market Cap Explorer\", layout=\"wide\")\n",
        "st.title(\"RDW Market Cap Explorer\")\n",
        "\n",
        "with st.sidebar:\n",
        "    st.header(\"Filters\")\n",
        "    merk = st.text_input(\"Brand (merk)\", value=\"BMW\")\n",
        "    handelsbenaming = st.text_input(\"Model (handelsbenaming)\", value=\"118i\")\n",
        "    years_ahead = st.slider(\"Forecast years ahead\", min_value=1, max_value=10, value=5)\n",
        "    st.caption(\"Optional: set an RDW App Token to increase rate limits.\")\n",
        "    default_token = os.environ.get(\"RDW_APP_TOKEN\", \"\")\n",
        "    app_token = st.text_input(\"X-App-Token (optional)\", value=default_token, type=\"password\")\n",
        "    run = st.button(\"Run\")\n",
        "\n",
        "if run:\n",
        "    try:\n",
        "        raw = fetch_rdw(merk, handelsbenaming, app_token or None)\n",
        "        if raw.empty:\n",
        "            st.warning(\"No rows returned. Try different inputs or check capitalization.\")\n",
        "        else:\n",
        "            df = prepare_dataframe(raw)\n",
        "            if df.empty:\n",
        "                st.warning(\"Rows returned but none valid after cleaning.\")\n",
        "            else:\n",
        "                # KPIs\n",
        "                avg_price = df.groupby(\"Occasion\")[\"catalogusprijs\"].mean()\n",
        "                col1, col2 = st.columns(2)\n",
        "                with col1:\n",
        "                    st.metric(\"Average Price (New)\", f\"€{avg_price.get(0, np.nan):,.0f}\")\n",
        "                with col2:\n",
        "                    st.metric(\"Average Price (Occasion)\", f\"€{avg_price.get(1, np.nan):,.0f}\")\n",
        "\n",
        "                counts = aggregate_market_cap(df)\n",
        "                forecast_df = forecast_market_cap(counts, years_ahead=years_ahead)\n",
        "                plot_df = pd.concat([counts, forecast_df], ignore_index=True)\n",
        "                plot_df[\"Type\"] = plot_df[\"Occasion\"].map({0: \"New\", 1: \"Occasion\"})\n",
        "\n",
        "                fig = px.line(\n",
        "                    plot_df, x=\"year\", y=\"market_cap\", color=\"Type\", line_dash=\"Type\", markers=True,\n",
        "                    title=f\"{merk} {handelsbenaming} Market Cap Over Time\",\n",
        "                    hover_data={\"year\": True, \"count\": True, \"market_cap\":\":.2f\"}\n",
        "                )\n",
        "                # Add dotted forecast layers\n",
        "                if not forecast_df.empty:\n",
        "                    for occ in [0, 1]:\n",
        "                        fsub = forecast_df[forecast_df[\"Occasion\"] == occ]\n",
        "                        if not fsub.empty:\n",
        "                            fig.add_scatter(\n",
        "                                x=fsub[\"year\"], y=fsub[\"market_cap\"], mode=\"lines\",\n",
        "                                name=f\"Forecast {['New','Occasion'][occ]}\", line=dict(dash=\"dot\")\n",
        "                            )\n",
        "                fig.update_layout(xaxis_title=\"Year\", yaxis_title=\"Market Cap (€)\", hovermode=\"x unified\")\n",
        "                st.plotly_chart(fig, use_container_width=True)\n",
        "\n",
        "                st.subheader(\"Aggregated Table\")\n",
        "                st.dataframe(counts.sort_values([\"Occasion\", \"year\"]))\n",
        "    except requests.HTTPError as e:\n",
        "        st.error(f\"HTTP error from RDW: {e}\")\n",
        "    except Exception as e:\n",
        "        st.exception(e)\n",
        "else:\n",
        "    st.info(\"Set inputs in the sidebar and click **Run**.\")"
      ],
      "metadata": {
        "id": "HfLqVXtZvuh6"
      },
      "execution_count": null,
      "outputs": []
    }
  ]
}