{
  "cells": [
    {
      "cell_type": "markdown",
      "metadata": {
        "id": "jQVK1v-7lQ-r"
      },
      "source": [
        "# Car Classification Pipeline\n",
        "\n"
      ]
    },
    {
      "cell_type": "markdown",
      "source": [
        "This notebook performs two main stages:\n",
        "1. **Data Cleaning** – Removes duplicates, irrelevant vehicle types, and text inconsistencies.  \n",
        "2. **Car Classification** – Categorizes cars (SUV, MPV, Sports, Compact, Medium, Large) based on vehicle characteristics such as body type, mass, and length.\n"
      ],
      "metadata": {
        "id": "xpBpnx4SeYMT"
      }
    },
    {
      "cell_type": "code",
      "source": [
        "from google.colab import files\n",
        "import numpy as np\n",
        "import pandas as pd"
      ],
      "metadata": {
        "id": "3N6WKlvicg-V"
      },
      "execution_count": 1,
      "outputs": []
    },
    {
      "cell_type": "code",
      "execution_count": 3,
      "metadata": {
        "colab": {
          "base_uri": "https://localhost:8080/",
          "height": 325
        },
        "collapsed": true,
        "id": "ADjdcNmwlYEQ",
        "outputId": "bccad049-b751-4fa0-b767-41729c5cfeb5"
      },
      "outputs": [
        {
          "output_type": "execute_result",
          "data": {
            "text/plain": [
              "  brand           model                       fuel_types_primary economy_rate  \\\n",
              "0  FORD            KUGA  Alcohol, Benzine, Diesel, Elektriciteit            A   \n",
              "1  FORD            PUMA  Alcohol, Benzine, Diesel, Elektriciteit            B   \n",
              "2  FORD  TRANSIT CUSTOM           Benzine, Diesel, Elektriciteit            A   \n",
              "3  FORD           FOCUS  Alcohol, Benzine, Diesel, Elektriciteit            A   \n",
              "4  FORD        EXPLORER                   Benzine, Elektriciteit            A   \n",
              "\n",
              "   resold_flag   inrichting_std  seats_median  mass_empty_median  \\\n",
              "0            1              MPV           5.0             1744.0   \n",
              "1            1              MPV           5.0             1225.0   \n",
              "2            1  gesloten opbouw           3.0             1984.0   \n",
              "3            1     stationwagen           5.0             1340.0   \n",
              "4            1              MPV           5.0             1990.0   \n",
              "\n",
              "   length_median  width_median  ...  count_2024  count_2025  avg_2023  \\\n",
              "0          463.0         188.0  ...        5187        4568  45809.63   \n",
              "1          421.0         181.0  ...        3246        2801  34940.27   \n",
              "2          534.0         203.0  ...       10344        2798  57319.72   \n",
              "3          469.0         184.0  ...        4950        2322  35604.24   \n",
              "4          447.0         187.0  ...        1459        1451  83982.49   \n",
              "\n",
              "   avg_2024  avg_2025  flag_2023  flag_2024  flag_2025  new_car  \\\n",
              "0  47773.96  47943.79       sold       sold       sold  not new   \n",
              "1  36422.75  37647.14       sold       sold       sold  not new   \n",
              "2  61603.97  60622.39       sold       sold       sold  not new   \n",
              "3  35591.46  36124.42       sold       sold       sold  not new   \n",
              "4  51094.90  48713.71       sold       sold       sold  not new   \n",
              "\n",
              "                                           image_url  \n",
              "0  https://www.ford.it/content/dam/guxeu/rhd/cent...  \n",
              "1  https://www.gpas-cache.ford.com/guid/5420b8eb-...  \n",
              "2  data:image/jpeg;base64,/9j/4AAQSkZJRgABAQAAAQA...  \n",
              "3  data:image/jpeg;base64,/9j/4AAQSkZJRgABAQAAAQA...  \n",
              "4  https://api.openverse.org/v1/images/8c5dc7c2-8...  \n",
              "\n",
              "[5 rows x 24 columns]"
            ],
            "text/html": [
              "\n",
              "  <div id=\"df-c9c2aa3e-e6f3-40d4-b3b3-446e2310c44d\" class=\"colab-df-container\">\n",
              "    <div>\n",
              "<style scoped>\n",
              "    .dataframe tbody tr th:only-of-type {\n",
              "        vertical-align: middle;\n",
              "    }\n",
              "\n",
              "    .dataframe tbody tr th {\n",
              "        vertical-align: top;\n",
              "    }\n",
              "\n",
              "    .dataframe thead th {\n",
              "        text-align: right;\n",
              "    }\n",
              "</style>\n",
              "<table border=\"1\" class=\"dataframe\">\n",
              "  <thead>\n",
              "    <tr style=\"text-align: right;\">\n",
              "      <th></th>\n",
              "      <th>brand</th>\n",
              "      <th>model</th>\n",
              "      <th>fuel_types_primary</th>\n",
              "      <th>economy_rate</th>\n",
              "      <th>resold_flag</th>\n",
              "      <th>inrichting_std</th>\n",
              "      <th>seats_median</th>\n",
              "      <th>mass_empty_median</th>\n",
              "      <th>length_median</th>\n",
              "      <th>width_median</th>\n",
              "      <th>...</th>\n",
              "      <th>count_2024</th>\n",
              "      <th>count_2025</th>\n",
              "      <th>avg_2023</th>\n",
              "      <th>avg_2024</th>\n",
              "      <th>avg_2025</th>\n",
              "      <th>flag_2023</th>\n",
              "      <th>flag_2024</th>\n",
              "      <th>flag_2025</th>\n",
              "      <th>new_car</th>\n",
              "      <th>image_url</th>\n",
              "    </tr>\n",
              "  </thead>\n",
              "  <tbody>\n",
              "    <tr>\n",
              "      <th>0</th>\n",
              "      <td>FORD</td>\n",
              "      <td>KUGA</td>\n",
              "      <td>Alcohol, Benzine, Diesel, Elektriciteit</td>\n",
              "      <td>A</td>\n",
              "      <td>1</td>\n",
              "      <td>MPV</td>\n",
              "      <td>5.0</td>\n",
              "      <td>1744.0</td>\n",
              "      <td>463.0</td>\n",
              "      <td>188.0</td>\n",
              "      <td>...</td>\n",
              "      <td>5187</td>\n",
              "      <td>4568</td>\n",
              "      <td>45809.63</td>\n",
              "      <td>47773.96</td>\n",
              "      <td>47943.79</td>\n",
              "      <td>sold</td>\n",
              "      <td>sold</td>\n",
              "      <td>sold</td>\n",
              "      <td>not new</td>\n",
              "      <td>https://www.ford.it/content/dam/guxeu/rhd/cent...</td>\n",
              "    </tr>\n",
              "    <tr>\n",
              "      <th>1</th>\n",
              "      <td>FORD</td>\n",
              "      <td>PUMA</td>\n",
              "      <td>Alcohol, Benzine, Diesel, Elektriciteit</td>\n",
              "      <td>B</td>\n",
              "      <td>1</td>\n",
              "      <td>MPV</td>\n",
              "      <td>5.0</td>\n",
              "      <td>1225.0</td>\n",
              "      <td>421.0</td>\n",
              "      <td>181.0</td>\n",
              "      <td>...</td>\n",
              "      <td>3246</td>\n",
              "      <td>2801</td>\n",
              "      <td>34940.27</td>\n",
              "      <td>36422.75</td>\n",
              "      <td>37647.14</td>\n",
              "      <td>sold</td>\n",
              "      <td>sold</td>\n",
              "      <td>sold</td>\n",
              "      <td>not new</td>\n",
              "      <td>https://www.gpas-cache.ford.com/guid/5420b8eb-...</td>\n",
              "    </tr>\n",
              "    <tr>\n",
              "      <th>2</th>\n",
              "      <td>FORD</td>\n",
              "      <td>TRANSIT CUSTOM</td>\n",
              "      <td>Benzine, Diesel, Elektriciteit</td>\n",
              "      <td>A</td>\n",
              "      <td>1</td>\n",
              "      <td>gesloten opbouw</td>\n",
              "      <td>3.0</td>\n",
              "      <td>1984.0</td>\n",
              "      <td>534.0</td>\n",
              "      <td>203.0</td>\n",
              "      <td>...</td>\n",
              "      <td>10344</td>\n",
              "      <td>2798</td>\n",
              "      <td>57319.72</td>\n",
              "      <td>61603.97</td>\n",
              "      <td>60622.39</td>\n",
              "      <td>sold</td>\n",
              "      <td>sold</td>\n",
              "      <td>sold</td>\n",
              "      <td>not new</td>\n",
              "      <td>data:image/jpeg;base64,/9j/4AAQSkZJRgABAQAAAQA...</td>\n",
              "    </tr>\n",
              "    <tr>\n",
              "      <th>3</th>\n",
              "      <td>FORD</td>\n",
              "      <td>FOCUS</td>\n",
              "      <td>Alcohol, Benzine, Diesel, Elektriciteit</td>\n",
              "      <td>A</td>\n",
              "      <td>1</td>\n",
              "      <td>stationwagen</td>\n",
              "      <td>5.0</td>\n",
              "      <td>1340.0</td>\n",
              "      <td>469.0</td>\n",
              "      <td>184.0</td>\n",
              "      <td>...</td>\n",
              "      <td>4950</td>\n",
              "      <td>2322</td>\n",
              "      <td>35604.24</td>\n",
              "      <td>35591.46</td>\n",
              "      <td>36124.42</td>\n",
              "      <td>sold</td>\n",
              "      <td>sold</td>\n",
              "      <td>sold</td>\n",
              "      <td>not new</td>\n",
              "      <td>data:image/jpeg;base64,/9j/4AAQSkZJRgABAQAAAQA...</td>\n",
              "    </tr>\n",
              "    <tr>\n",
              "      <th>4</th>\n",
              "      <td>FORD</td>\n",
              "      <td>EXPLORER</td>\n",
              "      <td>Benzine, Elektriciteit</td>\n",
              "      <td>A</td>\n",
              "      <td>1</td>\n",
              "      <td>MPV</td>\n",
              "      <td>5.0</td>\n",
              "      <td>1990.0</td>\n",
              "      <td>447.0</td>\n",
              "      <td>187.0</td>\n",
              "      <td>...</td>\n",
              "      <td>1459</td>\n",
              "      <td>1451</td>\n",
              "      <td>83982.49</td>\n",
              "      <td>51094.90</td>\n",
              "      <td>48713.71</td>\n",
              "      <td>sold</td>\n",
              "      <td>sold</td>\n",
              "      <td>sold</td>\n",
              "      <td>not new</td>\n",
              "      <td>https://api.openverse.org/v1/images/8c5dc7c2-8...</td>\n",
              "    </tr>\n",
              "  </tbody>\n",
              "</table>\n",
              "<p>5 rows × 24 columns</p>\n",
              "</div>\n",
              "    <div class=\"colab-df-buttons\">\n",
              "\n",
              "  <div class=\"colab-df-container\">\n",
              "    <button class=\"colab-df-convert\" onclick=\"convertToInteractive('df-c9c2aa3e-e6f3-40d4-b3b3-446e2310c44d')\"\n",
              "            title=\"Convert this dataframe to an interactive table.\"\n",
              "            style=\"display:none;\">\n",
              "\n",
              "  <svg xmlns=\"http://www.w3.org/2000/svg\" height=\"24px\" viewBox=\"0 -960 960 960\">\n",
              "    <path d=\"M120-120v-720h720v720H120Zm60-500h600v-160H180v160Zm220 220h160v-160H400v160Zm0 220h160v-160H400v160ZM180-400h160v-160H180v160Zm440 0h160v-160H620v160ZM180-180h160v-160H180v160Zm440 0h160v-160H620v160Z\"/>\n",
              "  </svg>\n",
              "    </button>\n",
              "\n",
              "  <style>\n",
              "    .colab-df-container {\n",
              "      display:flex;\n",
              "      gap: 12px;\n",
              "    }\n",
              "\n",
              "    .colab-df-convert {\n",
              "      background-color: #E8F0FE;\n",
              "      border: none;\n",
              "      border-radius: 50%;\n",
              "      cursor: pointer;\n",
              "      display: none;\n",
              "      fill: #1967D2;\n",
              "      height: 32px;\n",
              "      padding: 0 0 0 0;\n",
              "      width: 32px;\n",
              "    }\n",
              "\n",
              "    .colab-df-convert:hover {\n",
              "      background-color: #E2EBFA;\n",
              "      box-shadow: 0px 1px 2px rgba(60, 64, 67, 0.3), 0px 1px 3px 1px rgba(60, 64, 67, 0.15);\n",
              "      fill: #174EA6;\n",
              "    }\n",
              "\n",
              "    .colab-df-buttons div {\n",
              "      margin-bottom: 4px;\n",
              "    }\n",
              "\n",
              "    [theme=dark] .colab-df-convert {\n",
              "      background-color: #3B4455;\n",
              "      fill: #D2E3FC;\n",
              "    }\n",
              "\n",
              "    [theme=dark] .colab-df-convert:hover {\n",
              "      background-color: #434B5C;\n",
              "      box-shadow: 0px 1px 3px 1px rgba(0, 0, 0, 0.15);\n",
              "      filter: drop-shadow(0px 1px 2px rgba(0, 0, 0, 0.3));\n",
              "      fill: #FFFFFF;\n",
              "    }\n",
              "  </style>\n",
              "\n",
              "    <script>\n",
              "      const buttonEl =\n",
              "        document.querySelector('#df-c9c2aa3e-e6f3-40d4-b3b3-446e2310c44d button.colab-df-convert');\n",
              "      buttonEl.style.display =\n",
              "        google.colab.kernel.accessAllowed ? 'block' : 'none';\n",
              "\n",
              "      async function convertToInteractive(key) {\n",
              "        const element = document.querySelector('#df-c9c2aa3e-e6f3-40d4-b3b3-446e2310c44d');\n",
              "        const dataTable =\n",
              "          await google.colab.kernel.invokeFunction('convertToInteractive',\n",
              "                                                    [key], {});\n",
              "        if (!dataTable) return;\n",
              "\n",
              "        const docLinkHtml = 'Like what you see? Visit the ' +\n",
              "          '<a target=\"_blank\" href=https://colab.research.google.com/notebooks/data_table.ipynb>data table notebook</a>'\n",
              "          + ' to learn more about interactive tables.';\n",
              "        element.innerHTML = '';\n",
              "        dataTable['output_type'] = 'display_data';\n",
              "        await google.colab.output.renderOutput(dataTable, element);\n",
              "        const docLink = document.createElement('div');\n",
              "        docLink.innerHTML = docLinkHtml;\n",
              "        element.appendChild(docLink);\n",
              "      }\n",
              "    </script>\n",
              "  </div>\n",
              "\n",
              "\n",
              "    <div id=\"df-27eb1612-82e1-4208-98ec-8162f32a1068\">\n",
              "      <button class=\"colab-df-quickchart\" onclick=\"quickchart('df-27eb1612-82e1-4208-98ec-8162f32a1068')\"\n",
              "                title=\"Suggest charts\"\n",
              "                style=\"display:none;\">\n",
              "\n",
              "<svg xmlns=\"http://www.w3.org/2000/svg\" height=\"24px\"viewBox=\"0 0 24 24\"\n",
              "     width=\"24px\">\n",
              "    <g>\n",
              "        <path d=\"M19 3H5c-1.1 0-2 .9-2 2v14c0 1.1.9 2 2 2h14c1.1 0 2-.9 2-2V5c0-1.1-.9-2-2-2zM9 17H7v-7h2v7zm4 0h-2V7h2v10zm4 0h-2v-4h2v4z\"/>\n",
              "    </g>\n",
              "</svg>\n",
              "      </button>\n",
              "\n",
              "<style>\n",
              "  .colab-df-quickchart {\n",
              "      --bg-color: #E8F0FE;\n",
              "      --fill-color: #1967D2;\n",
              "      --hover-bg-color: #E2EBFA;\n",
              "      --hover-fill-color: #174EA6;\n",
              "      --disabled-fill-color: #AAA;\n",
              "      --disabled-bg-color: #DDD;\n",
              "  }\n",
              "\n",
              "  [theme=dark] .colab-df-quickchart {\n",
              "      --bg-color: #3B4455;\n",
              "      --fill-color: #D2E3FC;\n",
              "      --hover-bg-color: #434B5C;\n",
              "      --hover-fill-color: #FFFFFF;\n",
              "      --disabled-bg-color: #3B4455;\n",
              "      --disabled-fill-color: #666;\n",
              "  }\n",
              "\n",
              "  .colab-df-quickchart {\n",
              "    background-color: var(--bg-color);\n",
              "    border: none;\n",
              "    border-radius: 50%;\n",
              "    cursor: pointer;\n",
              "    display: none;\n",
              "    fill: var(--fill-color);\n",
              "    height: 32px;\n",
              "    padding: 0;\n",
              "    width: 32px;\n",
              "  }\n",
              "\n",
              "  .colab-df-quickchart:hover {\n",
              "    background-color: var(--hover-bg-color);\n",
              "    box-shadow: 0 1px 2px rgba(60, 64, 67, 0.3), 0 1px 3px 1px rgba(60, 64, 67, 0.15);\n",
              "    fill: var(--button-hover-fill-color);\n",
              "  }\n",
              "\n",
              "  .colab-df-quickchart-complete:disabled,\n",
              "  .colab-df-quickchart-complete:disabled:hover {\n",
              "    background-color: var(--disabled-bg-color);\n",
              "    fill: var(--disabled-fill-color);\n",
              "    box-shadow: none;\n",
              "  }\n",
              "\n",
              "  .colab-df-spinner {\n",
              "    border: 2px solid var(--fill-color);\n",
              "    border-color: transparent;\n",
              "    border-bottom-color: var(--fill-color);\n",
              "    animation:\n",
              "      spin 1s steps(1) infinite;\n",
              "  }\n",
              "\n",
              "  @keyframes spin {\n",
              "    0% {\n",
              "      border-color: transparent;\n",
              "      border-bottom-color: var(--fill-color);\n",
              "      border-left-color: var(--fill-color);\n",
              "    }\n",
              "    20% {\n",
              "      border-color: transparent;\n",
              "      border-left-color: var(--fill-color);\n",
              "      border-top-color: var(--fill-color);\n",
              "    }\n",
              "    30% {\n",
              "      border-color: transparent;\n",
              "      border-left-color: var(--fill-color);\n",
              "      border-top-color: var(--fill-color);\n",
              "      border-right-color: var(--fill-color);\n",
              "    }\n",
              "    40% {\n",
              "      border-color: transparent;\n",
              "      border-right-color: var(--fill-color);\n",
              "      border-top-color: var(--fill-color);\n",
              "    }\n",
              "    60% {\n",
              "      border-color: transparent;\n",
              "      border-right-color: var(--fill-color);\n",
              "    }\n",
              "    80% {\n",
              "      border-color: transparent;\n",
              "      border-right-color: var(--fill-color);\n",
              "      border-bottom-color: var(--fill-color);\n",
              "    }\n",
              "    90% {\n",
              "      border-color: transparent;\n",
              "      border-bottom-color: var(--fill-color);\n",
              "    }\n",
              "  }\n",
              "</style>\n",
              "\n",
              "      <script>\n",
              "        async function quickchart(key) {\n",
              "          const quickchartButtonEl =\n",
              "            document.querySelector('#' + key + ' button');\n",
              "          quickchartButtonEl.disabled = true;  // To prevent multiple clicks.\n",
              "          quickchartButtonEl.classList.add('colab-df-spinner');\n",
              "          try {\n",
              "            const charts = await google.colab.kernel.invokeFunction(\n",
              "                'suggestCharts', [key], {});\n",
              "          } catch (error) {\n",
              "            console.error('Error during call to suggestCharts:', error);\n",
              "          }\n",
              "          quickchartButtonEl.classList.remove('colab-df-spinner');\n",
              "          quickchartButtonEl.classList.add('colab-df-quickchart-complete');\n",
              "        }\n",
              "        (() => {\n",
              "          let quickchartButtonEl =\n",
              "            document.querySelector('#df-27eb1612-82e1-4208-98ec-8162f32a1068 button');\n",
              "          quickchartButtonEl.style.display =\n",
              "            google.colab.kernel.accessAllowed ? 'block' : 'none';\n",
              "        })();\n",
              "      </script>\n",
              "    </div>\n",
              "\n",
              "    </div>\n",
              "  </div>\n"
            ],
            "application/vnd.google.colaboratory.intrinsic+json": {
              "type": "dataframe",
              "variable_name": "rdw_cars"
            }
          },
          "metadata": {},
          "execution_count": 3
        }
      ],
      "source": [
        "rdw_cars = pd.read_csv('brand_model_peryear_cleaned_final.csv')\n",
        "rdw_cars.head()"
      ]
    },
    {
      "cell_type": "code",
      "source": [
        "rdw_cars.info()"
      ],
      "metadata": {
        "id": "cHarbpsOcvoM",
        "outputId": "17e9ce54-5def-4fae-9b1e-7d8b1ec1f5c3",
        "colab": {
          "base_uri": "https://localhost:8080/"
        }
      },
      "execution_count": 4,
      "outputs": [
        {
          "output_type": "stream",
          "name": "stdout",
          "text": [
            "<class 'pandas.core.frame.DataFrame'>\n",
            "RangeIndex: 3984 entries, 0 to 3983\n",
            "Data columns (total 24 columns):\n",
            " #   Column                       Non-Null Count  Dtype  \n",
            "---  ------                       --------------  -----  \n",
            " 0   brand                        3984 non-null   object \n",
            " 1   model                        3984 non-null   object \n",
            " 2   fuel_types_primary           3984 non-null   object \n",
            " 3   economy_rate                 580 non-null    object \n",
            " 4   resold_flag                  3984 non-null   int64  \n",
            " 5   inrichting_std               3984 non-null   object \n",
            " 6   seats_median                 3984 non-null   float64\n",
            " 7   mass_empty_median            3984 non-null   float64\n",
            " 8   length_median                3179 non-null   float64\n",
            " 9   width_median                 3350 non-null   float64\n",
            " 10  wheelbase_median             3984 non-null   float64\n",
            " 11  pw_ratio_median              3984 non-null   float64\n",
            " 12  datum_eerste_toelating_year  3984 non-null   int64  \n",
            " 13  count_2023                   3984 non-null   int64  \n",
            " 14  count_2024                   3984 non-null   int64  \n",
            " 15  count_2025                   3984 non-null   int64  \n",
            " 16  avg_2023                     3984 non-null   float64\n",
            " 17  avg_2024                     3984 non-null   float64\n",
            " 18  avg_2025                     3984 non-null   float64\n",
            " 19  flag_2023                    3984 non-null   object \n",
            " 20  flag_2024                    3984 non-null   object \n",
            " 21  flag_2025                    3984 non-null   object \n",
            " 22  new_car                      3984 non-null   object \n",
            " 23  image_url                    3984 non-null   object \n",
            "dtypes: float64(9), int64(5), object(10)\n",
            "memory usage: 747.1+ KB\n"
          ]
        }
      ]
    },
    {
      "cell_type": "markdown",
      "source": [
        "## Final cleaning\n",
        "Before Doing the classification it was noticed that some sjudtments were needed. Because for now we already have the dataset downloaded with the link we will compute the changes here, for the final this will be cleaned\n",
        "\n",
        "Steps performed:\n",
        "\n",
        "1. Remove rows where `brand == model`.  \n",
        "2. Drop duplicate `(brand, model)` combinations.  \n",
        "3. Remove placeholder or mistyped entries.  \n",
        "4. Exclude non-passenger vehicle types (e.g., campers, trucks).  "
      ],
      "metadata": {
        "id": "O58nzCVFc4te"
      }
    },
    {
      "cell_type": "markdown",
      "source": [
        "### dropping the rows where brand == model"
      ],
      "metadata": {
        "id": "of1ADomydALL"
      }
    },
    {
      "cell_type": "code",
      "source": [
        "_brand = rdw_cars[\"brand\"].astype(str).str.strip().str.casefold()\n",
        "_model = rdw_cars[\"model\"].astype(str).str.strip().str.casefold()\n",
        "\n",
        "# Mask rows where brand == model (ignoring NaNs safely)\n",
        "mask_same = _brand.notna() & _model.notna() & (_brand == _model)\n",
        "\n",
        "# Report and drop in place\n",
        "n_before = len(rdw_cars)\n",
        "rdw_cars = rdw_cars.loc[~mask_same].copy()\n",
        "n_after = len(rdw_cars)\n",
        "\n",
        "print(f\"Dropped {n_before - n_after} rows where brand == model (case-insensitive).\")"
      ],
      "metadata": {
        "id": "jV_Edldqc4cm",
        "outputId": "a7e107be-70c5-4a5a-8d70-437b0b4c31cb",
        "colab": {
          "base_uri": "https://localhost:8080/"
        }
      },
      "execution_count": 5,
      "outputs": [
        {
          "output_type": "stream",
          "name": "stdout",
          "text": [
            "Dropped 3 rows where brand == model (case-insensitive).\n"
          ]
        }
      ]
    },
    {
      "cell_type": "markdown",
      "source": [
        "### dropping final duplicates"
      ],
      "metadata": {
        "id": "P2D-2_AldHjs"
      }
    },
    {
      "cell_type": "code",
      "source": [
        "print(f\"Rows before cleaning: {rdw_cars.shape[0]}\")\n",
        "rdw_unique = rdw_cars.drop_duplicates(subset=[\"brand\", \"model\"], keep=\"first\").copy()\n",
        "print(f\"Rows after cleaning: {rdw_unique.shape[0]}\")"
      ],
      "metadata": {
        "id": "vG1Qr4XvdFHQ",
        "outputId": "f88c1629-b8b0-43c1-beee-2656ee904132",
        "colab": {
          "base_uri": "https://localhost:8080/"
        }
      },
      "execution_count": 6,
      "outputs": [
        {
          "output_type": "stream",
          "name": "stdout",
          "text": [
            "Rows before cleaning: 3981\n",
            "Rows after cleaning: 3854\n"
          ]
        }
      ]
    },
    {
      "cell_type": "markdown",
      "source": [
        "### cleaning final mistypos"
      ],
      "metadata": {
        "id": "4kf1WZ1hdLsY"
      }
    },
    {
      "cell_type": "code",
      "source": [
        "print(f\"before: {rdw_unique.shape[0]}\")\n",
        "rdw_unique = rdw_unique[rdw_unique[\"model\"].astype(str).str.strip() != \"-\"].copy()\n",
        "print(f\"after: {rdw_unique.shape[0]}\")"
      ],
      "metadata": {
        "id": "XjLkkoDVdOKq",
        "outputId": "126732d1-8b00-4daa-aecb-9b98476d3dea",
        "colab": {
          "base_uri": "https://localhost:8080/"
        }
      },
      "execution_count": 7,
      "outputs": [
        {
          "output_type": "stream",
          "name": "stdout",
          "text": [
            "before: 3854\n",
            "after: 3852\n"
          ]
        }
      ]
    },
    {
      "cell_type": "markdown",
      "source": [
        "### Deleting non-pannensger vehicle types\n",
        "\n",
        "Eliminsting rows where inrichting_std equals “gesloten opbouw” (closed body/box) or “kampeerwagen” (campervan) and exclude all non-passenger body types so they don’t skew passenger-car indicators, clustering, and price/forecast analyses."
      ],
      "metadata": {
        "id": "RmVgRfwndPKi"
      }
    },
    {
      "cell_type": "code",
      "source": [
        "rdw_unique[\"inrichting_std\"] = rdw_unique[\"inrichting_std\"].astype(str).str.strip().str.casefold() #consistency\n",
        "\n",
        "to_exclude = {\n",
        "    \"gesloten opbouw\", \"kampeerwagen\", #afterwards removal\n",
        "    # broader non-passenger body types\n",
        "    \"open laadvloer\", \"speciale groep\", \"neerklapbare zijschotten\", \"veewagen\",\n",
        "    \"voor vervoer voertuigen\", \"lijkwagen\", \"huifopbouw\", \"opleggertrekker\",\n",
        "    \"detailhandel/expositiedoel.\", \"kipper\", \"gecond. met temperatuurreg.\",\n",
        "    \"kraanwagen\", \"hoogwerker\"\n",
        "}\n",
        "\n",
        "mask_excl = rdw_unique[\"inrichting_std\"].isin(to_exclude)\n",
        "\n",
        "n_before = len(rdw_unique)\n",
        "n_matches = int(mask_excl.sum())\n",
        "print(f\"[BEFORE] Total rows: {n_before}\")\n",
        "print(f\"[EXCLUDE] Matching rows (any excluded type): {n_matches}\")\n",
        "\n",
        "if n_matches > 0:\n",
        "    print(\"\\n[DETAIL] Value counts among rows to be dropped:\")\n",
        "    print(rdw_unique.loc[mask_excl, \"inrichting_std\"].value_counts())\n",
        "\n",
        "rdw_unique = rdw_unique.loc[~mask_excl].copy()\n",
        "n_after = len(rdw_unique)\n",
        "print(f\"\\n[AFTER] Total rows: {n_after}\")\n",
        "print(f\"Dropped {n_before - n_after} rows.\")\n",
        "print(\"Remaining unique types (sample):\", sorted(rdw_unique[\"inrichting_std\"].dropna().unique())[:12])\n",
        ""
      ],
      "metadata": {
        "id": "kYJA4wzJdRS5",
        "outputId": "360a2cf3-a6db-4311-b09d-f9b9f0e56b63",
        "colab": {
          "base_uri": "https://localhost:8080/"
        }
      },
      "execution_count": 8,
      "outputs": [
        {
          "output_type": "stream",
          "name": "stdout",
          "text": [
            "[BEFORE] Total rows: 3852\n",
            "[EXCLUDE] Matching rows (any excluded type): 1051\n",
            "\n",
            "[DETAIL] Value counts among rows to be dropped:\n",
            "inrichting_std\n",
            "kampeerwagen                   753\n",
            "gesloten opbouw                207\n",
            "speciale groep                  33\n",
            "neerklapbare zijschotten        17\n",
            "open laadvloer                  13\n",
            "opleggertrekker                  6\n",
            "voor vervoer voertuigen          5\n",
            "kipper                           5\n",
            "gecond. met temperatuurreg.      3\n",
            "lijkwagen                        3\n",
            "veewagen                         2\n",
            "detailhandel/expositiedoel.      1\n",
            "huifopbouw                       1\n",
            "kraanwagen                       1\n",
            "hoogwerker                       1\n",
            "Name: count, dtype: int64\n",
            "\n",
            "[AFTER] Total rows: 2801\n",
            "Dropped 1051 rows.\n",
            "Remaining unique types (sample): ['cabriolet', 'coupe', 'hatchback', 'mpv', 'niet geregistreerd', 'pick-up truck', 'sedan', 'stationwagen', 'voor rolstoelen toegankelijk voertuig']\n"
          ]
        }
      ]
    },
    {
      "cell_type": "markdown",
      "source": [
        "5. One hot encoding fuel types primary column\n",
        "\n",
        "- 1: the model is produced with that type of fuel,\n",
        "\n",
        "- 0: otherwise"
      ],
      "metadata": {
        "id": "AY6FfRa0daZ_"
      }
    },
    {
      "cell_type": "code",
      "source": [
        "rdw_unique[\"fuel_types_primary\"].unique()"
      ],
      "metadata": {
        "id": "n-F7aYcldZaN",
        "outputId": "0f98c5e4-b808-4cab-dc55-3df7f62140ed",
        "colab": {
          "base_uri": "https://localhost:8080/"
        }
      },
      "execution_count": 9,
      "outputs": [
        {
          "output_type": "execute_result",
          "data": {
            "text/plain": [
              "array(['Alcohol, Benzine, Diesel, Elektriciteit',\n",
              "       'Benzine, Elektriciteit', 'Elektriciteit', 'Benzine, Diesel',\n",
              "       'Benzine, Diesel, Elektriciteit', 'Benzine', 'Benzine, LPG',\n",
              "       'Alcohol, Benzine, Diesel', 'Alcohol, Benzine, LPG',\n",
              "       'Alcohol, Benzine', 'Benzine, Elektriciteit, LPG',\n",
              "       'Benzine, Diesel, LPG', 'Benzine, CNG', 'Diesel',\n",
              "       'Diesel, Elektriciteit', 'CNG', 'LPG', 'Alcohol',\n",
              "       'Alcohol, Benzine, Diesel, LPG',\n",
              "       'Alcohol, Benzine, Diesel, Elektriciteit, LPG',\n",
              "       'Benzine, CNG, Elektriciteit, LPG', 'Benzine, CNG, Diesel, LPG',\n",
              "       'Benzine, Diesel, Elektriciteit, LPG', 'Elektriciteit, Waterstof',\n",
              "       'Benzine, CNG, Diesel', 'Benzine, CNG, Diesel, Elektriciteit, LPG',\n",
              "       'Benzine, CNG, Elektriciteit',\n",
              "       'Benzine, CNG, Diesel, Elektriciteit',\n",
              "       'Alcohol, Benzine, CNG, Diesel, Elektriciteit, LPG',\n",
              "       'Alcohol, Benzine, CNG, Diesel, Elektriciteit'], dtype=object)"
            ]
          },
          "metadata": {},
          "execution_count": 9
        }
      ]
    },
    {
      "cell_type": "markdown",
      "source": [
        "## Car Classification\n"
      ],
      "metadata": {
        "id": "-Oycawl0exPN"
      }
    },
    {
      "cell_type": "markdown",
      "source": [
        "### Logic\n",
        "- **SUV:** Mass ≥ 1800 kg or length ≥ 4500 mm.  \n",
        "- **MPV:** Passenger vans or ≥ 6 seats.  \n",
        "- **Sports:** Sports-oriented bodies or power-to-weight ratio ≥ 0.12.  \n",
        "- **Other cars:** Classified as Compact, Medium, or Large by weight and size percentiles.\n",
        "\n",
        "Results are saved in `rdw_cars_classified.csv`."
      ],
      "metadata": {
        "id": "dWtiuLbrez68"
      }
    },
    {
      "cell_type": "code",
      "source": [
        "# Keyword list for the classification\n",
        "suv_keywords = ['pick-up truck']\n",
        "mpv_keywords = ['mpv', 'personenbus']\n",
        "sports_keywords = ['cabriolet', 'coupe', 'sportwagen']\n",
        "\n",
        "# groups based on mass\n",
        "p33_mass = rdw_cars['mass_empty_median'].quantile(0.33)\n",
        "p66_mass = rdw_cars['mass_empty_median'].quantile(0.66)\n",
        "\n",
        "print(f\"Global 33rd percentile mass: {p33_mass:.1f}\")\n",
        "print(f\"Global 66th percentile mass: {p66_mass:.1f}\")"
      ],
      "metadata": {
        "id": "SwC3D3oZdn0G",
        "outputId": "53819e08-2289-4b54-be16-6f90e5c05e83",
        "colab": {
          "base_uri": "https://localhost:8080/"
        }
      },
      "execution_count": 10,
      "outputs": [
        {
          "output_type": "stream",
          "name": "stdout",
          "text": [
            "Global 33rd percentile mass: 1468.4\n",
            "Global 66th percentile mass: 2175.0\n"
          ]
        }
      ]
    },
    {
      "cell_type": "code",
      "source": [
        "def classify_car(row):\n",
        "    inrichting = str(row['inrichting_std']).lower()\n",
        "    mass = row['mass_empty_median']\n",
        "    length = row['length_median']\n",
        "\n",
        "    # SUV\n",
        "    if inrichting in suv_keywords or (mass >= 1800 and length >= 4500):\n",
        "        return 'SUV'\n",
        "\n",
        "    # MPV\n",
        "    elif inrichting in mpv_keywords or row.get('seats_median', 0) >= 6:\n",
        "        return 'MPV'\n",
        "\n",
        "    # Sports\n",
        "    elif inrichting in sports_keywords or row.get('pw_ratio_median', 0) >= 0.12:\n",
        "        return 'Sports'\n",
        "\n",
        "    # Size-based (Compact / Medium / Large)\n",
        "    if mass < p33_mass:\n",
        "        if length >= 4500:\n",
        "            return 'Medium'\n",
        "        else:\n",
        "            return 'Compact'\n",
        "    elif mass < p66_mass:\n",
        "        return 'Medium'\n",
        "    else:\n",
        "        if length < 4400:\n",
        "            return 'Medium'\n",
        "        else:\n",
        "            return 'Large'"
      ],
      "metadata": {
        "id": "JdjOQmdwdrws"
      },
      "execution_count": 11,
      "outputs": []
    },
    {
      "cell_type": "code",
      "source": [
        "rdw_cars['body_class'] = rdw_cars.apply(classify_car, axis=1)\n",
        "\n",
        "print(rdw_cars['body_class'].value_counts())\n",
        "print(rdw_cars.head(10))"
      ],
      "metadata": {
        "id": "OU3H-yLjdvMN",
        "outputId": "6362fe97-6b1d-4781-bd19-af7e34e36339",
        "colab": {
          "base_uri": "https://localhost:8080/"
        }
      },
      "execution_count": 12,
      "outputs": [
        {
          "output_type": "stream",
          "name": "stdout",
          "text": [
            "body_class\n",
            "Medium     1761\n",
            "Compact    1125\n",
            "Sports      389\n",
            "MPV         369\n",
            "Large       181\n",
            "SUV         156\n",
            "Name: count, dtype: int64\n",
            "  brand           model                       fuel_types_primary economy_rate  \\\n",
            "0  FORD            KUGA  Alcohol, Benzine, Diesel, Elektriciteit            A   \n",
            "1  FORD            PUMA  Alcohol, Benzine, Diesel, Elektriciteit            B   \n",
            "2  FORD  TRANSIT CUSTOM           Benzine, Diesel, Elektriciteit            A   \n",
            "3  FORD           FOCUS  Alcohol, Benzine, Diesel, Elektriciteit            A   \n",
            "4  FORD        EXPLORER                   Benzine, Elektriciteit            A   \n",
            "5  AUDI    Q4 45 e-tron                            Elektriciteit          NaN   \n",
            "6  AUDI              Q2                          Benzine, Diesel            C   \n",
            "7  AUDI    A3 Sportback           Benzine, Diesel, Elektriciteit            B   \n",
            "8  AUDI    A1 Sportback                          Benzine, Diesel            C   \n",
            "9  FORD          FIESTA  Alcohol, Benzine, Diesel, Elektriciteit            B   \n",
            "\n",
            "   resold_flag   inrichting_std  seats_median  mass_empty_median  \\\n",
            "0            1              MPV           5.0             1744.0   \n",
            "1            1              MPV           5.0             1225.0   \n",
            "2            1  gesloten opbouw           3.0             1984.0   \n",
            "3            1     stationwagen           5.0             1340.0   \n",
            "4            1              MPV           5.0             1990.0   \n",
            "5            1     stationwagen           5.0             2135.0   \n",
            "6            1     stationwagen           5.0             1280.0   \n",
            "7            1        hatchback           5.0             1255.0   \n",
            "8            1        hatchback           5.0             1080.0   \n",
            "9            1        hatchback           5.0             1106.0   \n",
            "\n",
            "   length_median  width_median  ...  count_2025  avg_2023  avg_2024  avg_2025  \\\n",
            "0          463.0         188.0  ...        4568  45809.63  47773.96  47943.79   \n",
            "1          421.0         181.0  ...        2801  34940.27  36422.75  37647.14   \n",
            "2          534.0         203.0  ...        2798  57319.72  61603.97  60622.39   \n",
            "3          469.0         184.0  ...        2322  35604.24  35591.46  36124.42   \n",
            "4          447.0         187.0  ...        1451  83982.49  51094.90  48713.71   \n",
            "5          459.0         187.0  ...        1243  67735.88  58893.60  57493.41   \n",
            "6          421.0         180.0  ...         940  45577.94  46148.48  48594.64   \n",
            "7          435.0         182.0  ...         931  41083.76  42957.07  43886.43   \n",
            "8          404.0         174.0  ...         920  33815.98  33853.25  36263.14   \n",
            "9          409.0         176.0  ...         876  24529.73  21661.39  23982.60   \n",
            "\n",
            "   flag_2023  flag_2024  flag_2025  new_car  \\\n",
            "0       sold       sold       sold  not new   \n",
            "1       sold       sold       sold  not new   \n",
            "2       sold       sold       sold  not new   \n",
            "3       sold       sold       sold  not new   \n",
            "4       sold       sold       sold  not new   \n",
            "5       sold       sold       sold  not new   \n",
            "6       sold       sold       sold  not new   \n",
            "7       sold       sold       sold  not new   \n",
            "8       sold       sold       sold  not new   \n",
            "9       sold       sold       sold  not new   \n",
            "\n",
            "                                           image_url body_class  \n",
            "0  https://www.ford.it/content/dam/guxeu/rhd/cent...        MPV  \n",
            "1  https://www.gpas-cache.ford.com/guid/5420b8eb-...        MPV  \n",
            "2  data:image/jpeg;base64,/9j/4AAQSkZJRgABAQAAAQA...     Medium  \n",
            "3  data:image/jpeg;base64,/9j/4AAQSkZJRgABAQAAAQA...    Compact  \n",
            "4  https://api.openverse.org/v1/images/8c5dc7c2-8...        MPV  \n",
            "5  https://api.openverse.org/v1/images/e39871e3-1...     Medium  \n",
            "6  https://api.openverse.org/v1/images/f7360dd8-5...    Compact  \n",
            "7  https://encrypted-tbn3.gstatic.com/images?q=tb...    Compact  \n",
            "8  data:image/jpeg;base64,/9j/4AAQSkZJRgABAQAAAQA...    Compact  \n",
            "9  https://api.openverse.org/v1/images/4c25e9c9-5...    Compact  \n",
            "\n",
            "[10 rows x 25 columns]\n"
          ]
        }
      ]
    },
    {
      "cell_type": "code",
      "source": [
        "class_counts = rdw_cars['body_class'].value_counts()\n",
        "print(class_counts)"
      ],
      "metadata": {
        "id": "3RgJiAKzdxPI",
        "outputId": "6c4298d2-4b0b-47b6-ce81-539fce8411a2",
        "colab": {
          "base_uri": "https://localhost:8080/"
        }
      },
      "execution_count": 13,
      "outputs": [
        {
          "output_type": "stream",
          "name": "stdout",
          "text": [
            "body_class\n",
            "Medium     1761\n",
            "Compact    1125\n",
            "Sports      389\n",
            "MPV         369\n",
            "Large       181\n",
            "SUV         156\n",
            "Name: count, dtype: int64\n"
          ]
        }
      ]
    },
    {
      "cell_type": "code",
      "source": [
        "rdw_cars.to_csv('rdw_cars_classified.csv', index=False)\n",
        "\n",
        "'''files.download('rdw_cars_classified.csv')'''"
      ],
      "metadata": {
        "id": "jhGdm6A4d0VY",
        "outputId": "97632e0b-80b2-49a8-ca9d-1e5c459d6437",
        "colab": {
          "base_uri": "https://localhost:8080/",
          "height": 35
        }
      },
      "execution_count": 14,
      "outputs": [
        {
          "output_type": "execute_result",
          "data": {
            "text/plain": [
              "\"files.download('rdw_cars_classified.csv')\""
            ],
            "application/vnd.google.colaboratory.intrinsic+json": {
              "type": "string"
            }
          },
          "metadata": {},
          "execution_count": 14
        }
      ]
    },
    {
      "cell_type": "code",
      "source": [],
      "metadata": {
        "id": "rozObEq4fx0D"
      },
      "execution_count": null,
      "outputs": []
    }
  ],
  "metadata": {
    "colab": {
      "provenance": []
    },
    "kernelspec": {
      "display_name": "Python 3",
      "name": "python3"
    },
    "language_info": {
      "name": "python"
    }
  },
  "nbformat": 4,
  "nbformat_minor": 0
}